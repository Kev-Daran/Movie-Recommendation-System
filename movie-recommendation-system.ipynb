{
 "cells": [
  {
   "cell_type": "code",
   "execution_count": 1,
   "id": "8e202396",
   "metadata": {
    "_cell_guid": "b1076dfc-b9ad-4769-8c92-a6c4dae69d19",
    "_uuid": "8f2839f25d086af736a60e9eeb907d3b93b6e0e5",
    "execution": {
     "iopub.execute_input": "2025-02-28T04:03:30.690610Z",
     "iopub.status.busy": "2025-02-28T04:03:30.690216Z",
     "iopub.status.idle": "2025-02-28T04:03:31.759873Z",
     "shell.execute_reply": "2025-02-28T04:03:31.758452Z"
    },
    "papermill": {
     "duration": 1.08281,
     "end_time": "2025-02-28T04:03:31.761826",
     "exception": false,
     "start_time": "2025-02-28T04:03:30.679016",
     "status": "completed"
    },
    "tags": []
   },
   "outputs": [
    {
     "name": "stdout",
     "output_type": "stream",
     "text": [
      "/kaggle/input/tmdb-movie-metadata/tmdb_5000_movies.csv\n",
      "/kaggle/input/tmdb-movie-metadata/tmdb_5000_credits.csv\n",
      "/kaggle/input/movie-recommender-systems/__results__.html\n",
      "/kaggle/input/movie-recommender-systems/__output__.json\n",
      "/kaggle/input/movie-recommender-systems/custom.css\n",
      "/kaggle/input/the-movies-dataset/ratings.csv\n",
      "/kaggle/input/the-movies-dataset/links_small.csv\n",
      "/kaggle/input/the-movies-dataset/credits.csv\n",
      "/kaggle/input/the-movies-dataset/keywords.csv\n",
      "/kaggle/input/the-movies-dataset/movies_metadata.csv\n",
      "/kaggle/input/the-movies-dataset/ratings_small.csv\n",
      "/kaggle/input/the-movies-dataset/links.csv\n"
     ]
    }
   ],
   "source": [
    "# This Python 3 environment comes with many helpful analytics libraries installed\n",
    "# It is defined by the kaggle/python Docker image: https://github.com/kaggle/docker-python\n",
    "# For example, here's several helpful packages to load\n",
    "\n",
    "import numpy as np # linear algebra\n",
    "import pandas as pd # data processing, CSV file I/O (e.g. pd.read_csv)\n",
    "\n",
    "# Input data files are available in the read-only \"../input/\" directory\n",
    "# For example, running this (by clicking run or pressing Shift+Enter) will list all files under the input directory\n",
    "\n",
    "import os\n",
    "for dirname, _, filenames in os.walk('/kaggle/input'):\n",
    "    for filename in filenames:\n",
    "        print(os.path.join(dirname, filename))\n",
    "\n",
    "# You can write up to 20GB to the current directory (/kaggle/working/) that gets preserved as output when you create a version using \"Save & Run All\" \n",
    "# You can also write temporary files to /kaggle/temp/, but they won't be saved outside of the current session"
   ]
  },
  {
   "cell_type": "markdown",
   "id": "a18984ac",
   "metadata": {
    "papermill": {
     "duration": 0.009933,
     "end_time": "2025-02-28T04:03:31.781721",
     "exception": false,
     "start_time": "2025-02-28T04:03:31.771788",
     "status": "completed"
    },
    "tags": []
   },
   "source": [
    "## LOADING THE DATA"
   ]
  },
  {
   "cell_type": "code",
   "execution_count": 2,
   "id": "0ee34c9c",
   "metadata": {
    "execution": {
     "iopub.execute_input": "2025-02-28T04:03:31.802307Z",
     "iopub.status.busy": "2025-02-28T04:03:31.801774Z",
     "iopub.status.idle": "2025-02-28T04:03:32.793496Z",
     "shell.execute_reply": "2025-02-28T04:03:32.792310Z"
    },
    "papermill": {
     "duration": 1.004466,
     "end_time": "2025-02-28T04:03:32.795701",
     "exception": false,
     "start_time": "2025-02-28T04:03:31.791235",
     "status": "completed"
    },
    "tags": []
   },
   "outputs": [],
   "source": [
    "credit_df = pd.read_csv('/kaggle/input/tmdb-movie-metadata/tmdb_5000_credits.csv')\n",
    "movies_df = pd.read_csv('/kaggle/input/tmdb-movie-metadata/tmdb_5000_movies.csv')"
   ]
  },
  {
   "cell_type": "code",
   "execution_count": 3,
   "id": "fb88081e",
   "metadata": {
    "execution": {
     "iopub.execute_input": "2025-02-28T04:03:32.816818Z",
     "iopub.status.busy": "2025-02-28T04:03:32.816426Z",
     "iopub.status.idle": "2025-02-28T04:03:32.843173Z",
     "shell.execute_reply": "2025-02-28T04:03:32.841888Z"
    },
    "papermill": {
     "duration": 0.038901,
     "end_time": "2025-02-28T04:03:32.845014",
     "exception": false,
     "start_time": "2025-02-28T04:03:32.806113",
     "status": "completed"
    },
    "tags": []
   },
   "outputs": [
    {
     "data": {
      "text/html": [
       "<div>\n",
       "<style scoped>\n",
       "    .dataframe tbody tr th:only-of-type {\n",
       "        vertical-align: middle;\n",
       "    }\n",
       "\n",
       "    .dataframe tbody tr th {\n",
       "        vertical-align: top;\n",
       "    }\n",
       "\n",
       "    .dataframe thead th {\n",
       "        text-align: right;\n",
       "    }\n",
       "</style>\n",
       "<table border=\"1\" class=\"dataframe\">\n",
       "  <thead>\n",
       "    <tr style=\"text-align: right;\">\n",
       "      <th></th>\n",
       "      <th>movie_id</th>\n",
       "      <th>title</th>\n",
       "      <th>cast</th>\n",
       "      <th>crew</th>\n",
       "    </tr>\n",
       "  </thead>\n",
       "  <tbody>\n",
       "    <tr>\n",
       "      <th>0</th>\n",
       "      <td>19995</td>\n",
       "      <td>Avatar</td>\n",
       "      <td>[{\"cast_id\": 242, \"character\": \"Jake Sully\", \"...</td>\n",
       "      <td>[{\"credit_id\": \"52fe48009251416c750aca23\", \"de...</td>\n",
       "    </tr>\n",
       "    <tr>\n",
       "      <th>1</th>\n",
       "      <td>285</td>\n",
       "      <td>Pirates of the Caribbean: At World's End</td>\n",
       "      <td>[{\"cast_id\": 4, \"character\": \"Captain Jack Spa...</td>\n",
       "      <td>[{\"credit_id\": \"52fe4232c3a36847f800b579\", \"de...</td>\n",
       "    </tr>\n",
       "    <tr>\n",
       "      <th>2</th>\n",
       "      <td>206647</td>\n",
       "      <td>Spectre</td>\n",
       "      <td>[{\"cast_id\": 1, \"character\": \"James Bond\", \"cr...</td>\n",
       "      <td>[{\"credit_id\": \"54805967c3a36829b5002c41\", \"de...</td>\n",
       "    </tr>\n",
       "    <tr>\n",
       "      <th>3</th>\n",
       "      <td>49026</td>\n",
       "      <td>The Dark Knight Rises</td>\n",
       "      <td>[{\"cast_id\": 2, \"character\": \"Bruce Wayne / Ba...</td>\n",
       "      <td>[{\"credit_id\": \"52fe4781c3a36847f81398c3\", \"de...</td>\n",
       "    </tr>\n",
       "    <tr>\n",
       "      <th>4</th>\n",
       "      <td>49529</td>\n",
       "      <td>John Carter</td>\n",
       "      <td>[{\"cast_id\": 5, \"character\": \"John Carter\", \"c...</td>\n",
       "      <td>[{\"credit_id\": \"52fe479ac3a36847f813eaa3\", \"de...</td>\n",
       "    </tr>\n",
       "  </tbody>\n",
       "</table>\n",
       "</div>"
      ],
      "text/plain": [
       "   movie_id                                     title  \\\n",
       "0     19995                                    Avatar   \n",
       "1       285  Pirates of the Caribbean: At World's End   \n",
       "2    206647                                   Spectre   \n",
       "3     49026                     The Dark Knight Rises   \n",
       "4     49529                               John Carter   \n",
       "\n",
       "                                                cast  \\\n",
       "0  [{\"cast_id\": 242, \"character\": \"Jake Sully\", \"...   \n",
       "1  [{\"cast_id\": 4, \"character\": \"Captain Jack Spa...   \n",
       "2  [{\"cast_id\": 1, \"character\": \"James Bond\", \"cr...   \n",
       "3  [{\"cast_id\": 2, \"character\": \"Bruce Wayne / Ba...   \n",
       "4  [{\"cast_id\": 5, \"character\": \"John Carter\", \"c...   \n",
       "\n",
       "                                                crew  \n",
       "0  [{\"credit_id\": \"52fe48009251416c750aca23\", \"de...  \n",
       "1  [{\"credit_id\": \"52fe4232c3a36847f800b579\", \"de...  \n",
       "2  [{\"credit_id\": \"54805967c3a36829b5002c41\", \"de...  \n",
       "3  [{\"credit_id\": \"52fe4781c3a36847f81398c3\", \"de...  \n",
       "4  [{\"credit_id\": \"52fe479ac3a36847f813eaa3\", \"de...  "
      ]
     },
     "execution_count": 3,
     "metadata": {},
     "output_type": "execute_result"
    }
   ],
   "source": [
    "credit_df.head()"
   ]
  },
  {
   "cell_type": "code",
   "execution_count": 4,
   "id": "d5a21004",
   "metadata": {
    "execution": {
     "iopub.execute_input": "2025-02-28T04:03:32.866012Z",
     "iopub.status.busy": "2025-02-28T04:03:32.865671Z",
     "iopub.status.idle": "2025-02-28T04:03:32.885492Z",
     "shell.execute_reply": "2025-02-28T04:03:32.884311Z"
    },
    "papermill": {
     "duration": 0.032102,
     "end_time": "2025-02-28T04:03:32.887263",
     "exception": false,
     "start_time": "2025-02-28T04:03:32.855161",
     "status": "completed"
    },
    "tags": []
   },
   "outputs": [
    {
     "data": {
      "text/html": [
       "<div>\n",
       "<style scoped>\n",
       "    .dataframe tbody tr th:only-of-type {\n",
       "        vertical-align: middle;\n",
       "    }\n",
       "\n",
       "    .dataframe tbody tr th {\n",
       "        vertical-align: top;\n",
       "    }\n",
       "\n",
       "    .dataframe thead th {\n",
       "        text-align: right;\n",
       "    }\n",
       "</style>\n",
       "<table border=\"1\" class=\"dataframe\">\n",
       "  <thead>\n",
       "    <tr style=\"text-align: right;\">\n",
       "      <th></th>\n",
       "      <th>budget</th>\n",
       "      <th>genres</th>\n",
       "      <th>homepage</th>\n",
       "      <th>id</th>\n",
       "      <th>keywords</th>\n",
       "      <th>original_language</th>\n",
       "      <th>original_title</th>\n",
       "      <th>overview</th>\n",
       "      <th>popularity</th>\n",
       "      <th>production_companies</th>\n",
       "      <th>production_countries</th>\n",
       "      <th>release_date</th>\n",
       "      <th>revenue</th>\n",
       "      <th>runtime</th>\n",
       "      <th>spoken_languages</th>\n",
       "      <th>status</th>\n",
       "      <th>tagline</th>\n",
       "      <th>title</th>\n",
       "      <th>vote_average</th>\n",
       "      <th>vote_count</th>\n",
       "    </tr>\n",
       "  </thead>\n",
       "  <tbody>\n",
       "    <tr>\n",
       "      <th>0</th>\n",
       "      <td>237000000</td>\n",
       "      <td>[{\"id\": 28, \"name\": \"Action\"}, {\"id\": 12, \"nam...</td>\n",
       "      <td>http://www.avatarmovie.com/</td>\n",
       "      <td>19995</td>\n",
       "      <td>[{\"id\": 1463, \"name\": \"culture clash\"}, {\"id\":...</td>\n",
       "      <td>en</td>\n",
       "      <td>Avatar</td>\n",
       "      <td>In the 22nd century, a paraplegic Marine is di...</td>\n",
       "      <td>150.437577</td>\n",
       "      <td>[{\"name\": \"Ingenious Film Partners\", \"id\": 289...</td>\n",
       "      <td>[{\"iso_3166_1\": \"US\", \"name\": \"United States o...</td>\n",
       "      <td>2009-12-10</td>\n",
       "      <td>2787965087</td>\n",
       "      <td>162.0</td>\n",
       "      <td>[{\"iso_639_1\": \"en\", \"name\": \"English\"}, {\"iso...</td>\n",
       "      <td>Released</td>\n",
       "      <td>Enter the World of Pandora.</td>\n",
       "      <td>Avatar</td>\n",
       "      <td>7.2</td>\n",
       "      <td>11800</td>\n",
       "    </tr>\n",
       "    <tr>\n",
       "      <th>1</th>\n",
       "      <td>300000000</td>\n",
       "      <td>[{\"id\": 12, \"name\": \"Adventure\"}, {\"id\": 14, \"...</td>\n",
       "      <td>http://disney.go.com/disneypictures/pirates/</td>\n",
       "      <td>285</td>\n",
       "      <td>[{\"id\": 270, \"name\": \"ocean\"}, {\"id\": 726, \"na...</td>\n",
       "      <td>en</td>\n",
       "      <td>Pirates of the Caribbean: At World's End</td>\n",
       "      <td>Captain Barbossa, long believed to be dead, ha...</td>\n",
       "      <td>139.082615</td>\n",
       "      <td>[{\"name\": \"Walt Disney Pictures\", \"id\": 2}, {\"...</td>\n",
       "      <td>[{\"iso_3166_1\": \"US\", \"name\": \"United States o...</td>\n",
       "      <td>2007-05-19</td>\n",
       "      <td>961000000</td>\n",
       "      <td>169.0</td>\n",
       "      <td>[{\"iso_639_1\": \"en\", \"name\": \"English\"}]</td>\n",
       "      <td>Released</td>\n",
       "      <td>At the end of the world, the adventure begins.</td>\n",
       "      <td>Pirates of the Caribbean: At World's End</td>\n",
       "      <td>6.9</td>\n",
       "      <td>4500</td>\n",
       "    </tr>\n",
       "    <tr>\n",
       "      <th>2</th>\n",
       "      <td>245000000</td>\n",
       "      <td>[{\"id\": 28, \"name\": \"Action\"}, {\"id\": 12, \"nam...</td>\n",
       "      <td>http://www.sonypictures.com/movies/spectre/</td>\n",
       "      <td>206647</td>\n",
       "      <td>[{\"id\": 470, \"name\": \"spy\"}, {\"id\": 818, \"name...</td>\n",
       "      <td>en</td>\n",
       "      <td>Spectre</td>\n",
       "      <td>A cryptic message from Bond’s past sends him o...</td>\n",
       "      <td>107.376788</td>\n",
       "      <td>[{\"name\": \"Columbia Pictures\", \"id\": 5}, {\"nam...</td>\n",
       "      <td>[{\"iso_3166_1\": \"GB\", \"name\": \"United Kingdom\"...</td>\n",
       "      <td>2015-10-26</td>\n",
       "      <td>880674609</td>\n",
       "      <td>148.0</td>\n",
       "      <td>[{\"iso_639_1\": \"fr\", \"name\": \"Fran\\u00e7ais\"},...</td>\n",
       "      <td>Released</td>\n",
       "      <td>A Plan No One Escapes</td>\n",
       "      <td>Spectre</td>\n",
       "      <td>6.3</td>\n",
       "      <td>4466</td>\n",
       "    </tr>\n",
       "    <tr>\n",
       "      <th>3</th>\n",
       "      <td>250000000</td>\n",
       "      <td>[{\"id\": 28, \"name\": \"Action\"}, {\"id\": 80, \"nam...</td>\n",
       "      <td>http://www.thedarkknightrises.com/</td>\n",
       "      <td>49026</td>\n",
       "      <td>[{\"id\": 849, \"name\": \"dc comics\"}, {\"id\": 853,...</td>\n",
       "      <td>en</td>\n",
       "      <td>The Dark Knight Rises</td>\n",
       "      <td>Following the death of District Attorney Harve...</td>\n",
       "      <td>112.312950</td>\n",
       "      <td>[{\"name\": \"Legendary Pictures\", \"id\": 923}, {\"...</td>\n",
       "      <td>[{\"iso_3166_1\": \"US\", \"name\": \"United States o...</td>\n",
       "      <td>2012-07-16</td>\n",
       "      <td>1084939099</td>\n",
       "      <td>165.0</td>\n",
       "      <td>[{\"iso_639_1\": \"en\", \"name\": \"English\"}]</td>\n",
       "      <td>Released</td>\n",
       "      <td>The Legend Ends</td>\n",
       "      <td>The Dark Knight Rises</td>\n",
       "      <td>7.6</td>\n",
       "      <td>9106</td>\n",
       "    </tr>\n",
       "    <tr>\n",
       "      <th>4</th>\n",
       "      <td>260000000</td>\n",
       "      <td>[{\"id\": 28, \"name\": \"Action\"}, {\"id\": 12, \"nam...</td>\n",
       "      <td>http://movies.disney.com/john-carter</td>\n",
       "      <td>49529</td>\n",
       "      <td>[{\"id\": 818, \"name\": \"based on novel\"}, {\"id\":...</td>\n",
       "      <td>en</td>\n",
       "      <td>John Carter</td>\n",
       "      <td>John Carter is a war-weary, former military ca...</td>\n",
       "      <td>43.926995</td>\n",
       "      <td>[{\"name\": \"Walt Disney Pictures\", \"id\": 2}]</td>\n",
       "      <td>[{\"iso_3166_1\": \"US\", \"name\": \"United States o...</td>\n",
       "      <td>2012-03-07</td>\n",
       "      <td>284139100</td>\n",
       "      <td>132.0</td>\n",
       "      <td>[{\"iso_639_1\": \"en\", \"name\": \"English\"}]</td>\n",
       "      <td>Released</td>\n",
       "      <td>Lost in our world, found in another.</td>\n",
       "      <td>John Carter</td>\n",
       "      <td>6.1</td>\n",
       "      <td>2124</td>\n",
       "    </tr>\n",
       "  </tbody>\n",
       "</table>\n",
       "</div>"
      ],
      "text/plain": [
       "      budget                                             genres  \\\n",
       "0  237000000  [{\"id\": 28, \"name\": \"Action\"}, {\"id\": 12, \"nam...   \n",
       "1  300000000  [{\"id\": 12, \"name\": \"Adventure\"}, {\"id\": 14, \"...   \n",
       "2  245000000  [{\"id\": 28, \"name\": \"Action\"}, {\"id\": 12, \"nam...   \n",
       "3  250000000  [{\"id\": 28, \"name\": \"Action\"}, {\"id\": 80, \"nam...   \n",
       "4  260000000  [{\"id\": 28, \"name\": \"Action\"}, {\"id\": 12, \"nam...   \n",
       "\n",
       "                                       homepage      id  \\\n",
       "0                   http://www.avatarmovie.com/   19995   \n",
       "1  http://disney.go.com/disneypictures/pirates/     285   \n",
       "2   http://www.sonypictures.com/movies/spectre/  206647   \n",
       "3            http://www.thedarkknightrises.com/   49026   \n",
       "4          http://movies.disney.com/john-carter   49529   \n",
       "\n",
       "                                            keywords original_language  \\\n",
       "0  [{\"id\": 1463, \"name\": \"culture clash\"}, {\"id\":...                en   \n",
       "1  [{\"id\": 270, \"name\": \"ocean\"}, {\"id\": 726, \"na...                en   \n",
       "2  [{\"id\": 470, \"name\": \"spy\"}, {\"id\": 818, \"name...                en   \n",
       "3  [{\"id\": 849, \"name\": \"dc comics\"}, {\"id\": 853,...                en   \n",
       "4  [{\"id\": 818, \"name\": \"based on novel\"}, {\"id\":...                en   \n",
       "\n",
       "                             original_title  \\\n",
       "0                                    Avatar   \n",
       "1  Pirates of the Caribbean: At World's End   \n",
       "2                                   Spectre   \n",
       "3                     The Dark Knight Rises   \n",
       "4                               John Carter   \n",
       "\n",
       "                                            overview  popularity  \\\n",
       "0  In the 22nd century, a paraplegic Marine is di...  150.437577   \n",
       "1  Captain Barbossa, long believed to be dead, ha...  139.082615   \n",
       "2  A cryptic message from Bond’s past sends him o...  107.376788   \n",
       "3  Following the death of District Attorney Harve...  112.312950   \n",
       "4  John Carter is a war-weary, former military ca...   43.926995   \n",
       "\n",
       "                                production_companies  \\\n",
       "0  [{\"name\": \"Ingenious Film Partners\", \"id\": 289...   \n",
       "1  [{\"name\": \"Walt Disney Pictures\", \"id\": 2}, {\"...   \n",
       "2  [{\"name\": \"Columbia Pictures\", \"id\": 5}, {\"nam...   \n",
       "3  [{\"name\": \"Legendary Pictures\", \"id\": 923}, {\"...   \n",
       "4        [{\"name\": \"Walt Disney Pictures\", \"id\": 2}]   \n",
       "\n",
       "                                production_countries release_date     revenue  \\\n",
       "0  [{\"iso_3166_1\": \"US\", \"name\": \"United States o...   2009-12-10  2787965087   \n",
       "1  [{\"iso_3166_1\": \"US\", \"name\": \"United States o...   2007-05-19   961000000   \n",
       "2  [{\"iso_3166_1\": \"GB\", \"name\": \"United Kingdom\"...   2015-10-26   880674609   \n",
       "3  [{\"iso_3166_1\": \"US\", \"name\": \"United States o...   2012-07-16  1084939099   \n",
       "4  [{\"iso_3166_1\": \"US\", \"name\": \"United States o...   2012-03-07   284139100   \n",
       "\n",
       "   runtime                                   spoken_languages    status  \\\n",
       "0    162.0  [{\"iso_639_1\": \"en\", \"name\": \"English\"}, {\"iso...  Released   \n",
       "1    169.0           [{\"iso_639_1\": \"en\", \"name\": \"English\"}]  Released   \n",
       "2    148.0  [{\"iso_639_1\": \"fr\", \"name\": \"Fran\\u00e7ais\"},...  Released   \n",
       "3    165.0           [{\"iso_639_1\": \"en\", \"name\": \"English\"}]  Released   \n",
       "4    132.0           [{\"iso_639_1\": \"en\", \"name\": \"English\"}]  Released   \n",
       "\n",
       "                                          tagline  \\\n",
       "0                     Enter the World of Pandora.   \n",
       "1  At the end of the world, the adventure begins.   \n",
       "2                           A Plan No One Escapes   \n",
       "3                                 The Legend Ends   \n",
       "4            Lost in our world, found in another.   \n",
       "\n",
       "                                      title  vote_average  vote_count  \n",
       "0                                    Avatar           7.2       11800  \n",
       "1  Pirates of the Caribbean: At World's End           6.9        4500  \n",
       "2                                   Spectre           6.3        4466  \n",
       "3                     The Dark Knight Rises           7.6        9106  \n",
       "4                               John Carter           6.1        2124  "
      ]
     },
     "execution_count": 4,
     "metadata": {},
     "output_type": "execute_result"
    }
   ],
   "source": [
    "movies_df.head()"
   ]
  },
  {
   "cell_type": "code",
   "execution_count": 5,
   "id": "4fd341a4",
   "metadata": {
    "execution": {
     "iopub.execute_input": "2025-02-28T04:03:32.909160Z",
     "iopub.status.busy": "2025-02-28T04:03:32.908825Z",
     "iopub.status.idle": "2025-02-28T04:03:32.936789Z",
     "shell.execute_reply": "2025-02-28T04:03:32.935703Z"
    },
    "papermill": {
     "duration": 0.040845,
     "end_time": "2025-02-28T04:03:32.938699",
     "exception": false,
     "start_time": "2025-02-28T04:03:32.897854",
     "status": "completed"
    },
    "tags": []
   },
   "outputs": [],
   "source": [
    "credit_df.columns = ['id', 'title', 'cast', 'crew']\n",
    "merged_df = movies_df.merge(credit_df, on = 'id')"
   ]
  },
  {
   "cell_type": "code",
   "execution_count": 6,
   "id": "ea2daa65",
   "metadata": {
    "execution": {
     "iopub.execute_input": "2025-02-28T04:03:32.960304Z",
     "iopub.status.busy": "2025-02-28T04:03:32.959956Z",
     "iopub.status.idle": "2025-02-28T04:03:32.982325Z",
     "shell.execute_reply": "2025-02-28T04:03:32.981232Z"
    },
    "papermill": {
     "duration": 0.035289,
     "end_time": "2025-02-28T04:03:32.984155",
     "exception": false,
     "start_time": "2025-02-28T04:03:32.948866",
     "status": "completed"
    },
    "tags": []
   },
   "outputs": [
    {
     "data": {
      "text/html": [
       "<div>\n",
       "<style scoped>\n",
       "    .dataframe tbody tr th:only-of-type {\n",
       "        vertical-align: middle;\n",
       "    }\n",
       "\n",
       "    .dataframe tbody tr th {\n",
       "        vertical-align: top;\n",
       "    }\n",
       "\n",
       "    .dataframe thead th {\n",
       "        text-align: right;\n",
       "    }\n",
       "</style>\n",
       "<table border=\"1\" class=\"dataframe\">\n",
       "  <thead>\n",
       "    <tr style=\"text-align: right;\">\n",
       "      <th></th>\n",
       "      <th>budget</th>\n",
       "      <th>genres</th>\n",
       "      <th>homepage</th>\n",
       "      <th>id</th>\n",
       "      <th>keywords</th>\n",
       "      <th>original_language</th>\n",
       "      <th>original_title</th>\n",
       "      <th>overview</th>\n",
       "      <th>popularity</th>\n",
       "      <th>production_companies</th>\n",
       "      <th>...</th>\n",
       "      <th>runtime</th>\n",
       "      <th>spoken_languages</th>\n",
       "      <th>status</th>\n",
       "      <th>tagline</th>\n",
       "      <th>title_x</th>\n",
       "      <th>vote_average</th>\n",
       "      <th>vote_count</th>\n",
       "      <th>title_y</th>\n",
       "      <th>cast</th>\n",
       "      <th>crew</th>\n",
       "    </tr>\n",
       "  </thead>\n",
       "  <tbody>\n",
       "    <tr>\n",
       "      <th>0</th>\n",
       "      <td>237000000</td>\n",
       "      <td>[{\"id\": 28, \"name\": \"Action\"}, {\"id\": 12, \"nam...</td>\n",
       "      <td>http://www.avatarmovie.com/</td>\n",
       "      <td>19995</td>\n",
       "      <td>[{\"id\": 1463, \"name\": \"culture clash\"}, {\"id\":...</td>\n",
       "      <td>en</td>\n",
       "      <td>Avatar</td>\n",
       "      <td>In the 22nd century, a paraplegic Marine is di...</td>\n",
       "      <td>150.437577</td>\n",
       "      <td>[{\"name\": \"Ingenious Film Partners\", \"id\": 289...</td>\n",
       "      <td>...</td>\n",
       "      <td>162.0</td>\n",
       "      <td>[{\"iso_639_1\": \"en\", \"name\": \"English\"}, {\"iso...</td>\n",
       "      <td>Released</td>\n",
       "      <td>Enter the World of Pandora.</td>\n",
       "      <td>Avatar</td>\n",
       "      <td>7.2</td>\n",
       "      <td>11800</td>\n",
       "      <td>Avatar</td>\n",
       "      <td>[{\"cast_id\": 242, \"character\": \"Jake Sully\", \"...</td>\n",
       "      <td>[{\"credit_id\": \"52fe48009251416c750aca23\", \"de...</td>\n",
       "    </tr>\n",
       "    <tr>\n",
       "      <th>1</th>\n",
       "      <td>300000000</td>\n",
       "      <td>[{\"id\": 12, \"name\": \"Adventure\"}, {\"id\": 14, \"...</td>\n",
       "      <td>http://disney.go.com/disneypictures/pirates/</td>\n",
       "      <td>285</td>\n",
       "      <td>[{\"id\": 270, \"name\": \"ocean\"}, {\"id\": 726, \"na...</td>\n",
       "      <td>en</td>\n",
       "      <td>Pirates of the Caribbean: At World's End</td>\n",
       "      <td>Captain Barbossa, long believed to be dead, ha...</td>\n",
       "      <td>139.082615</td>\n",
       "      <td>[{\"name\": \"Walt Disney Pictures\", \"id\": 2}, {\"...</td>\n",
       "      <td>...</td>\n",
       "      <td>169.0</td>\n",
       "      <td>[{\"iso_639_1\": \"en\", \"name\": \"English\"}]</td>\n",
       "      <td>Released</td>\n",
       "      <td>At the end of the world, the adventure begins.</td>\n",
       "      <td>Pirates of the Caribbean: At World's End</td>\n",
       "      <td>6.9</td>\n",
       "      <td>4500</td>\n",
       "      <td>Pirates of the Caribbean: At World's End</td>\n",
       "      <td>[{\"cast_id\": 4, \"character\": \"Captain Jack Spa...</td>\n",
       "      <td>[{\"credit_id\": \"52fe4232c3a36847f800b579\", \"de...</td>\n",
       "    </tr>\n",
       "    <tr>\n",
       "      <th>2</th>\n",
       "      <td>245000000</td>\n",
       "      <td>[{\"id\": 28, \"name\": \"Action\"}, {\"id\": 12, \"nam...</td>\n",
       "      <td>http://www.sonypictures.com/movies/spectre/</td>\n",
       "      <td>206647</td>\n",
       "      <td>[{\"id\": 470, \"name\": \"spy\"}, {\"id\": 818, \"name...</td>\n",
       "      <td>en</td>\n",
       "      <td>Spectre</td>\n",
       "      <td>A cryptic message from Bond’s past sends him o...</td>\n",
       "      <td>107.376788</td>\n",
       "      <td>[{\"name\": \"Columbia Pictures\", \"id\": 5}, {\"nam...</td>\n",
       "      <td>...</td>\n",
       "      <td>148.0</td>\n",
       "      <td>[{\"iso_639_1\": \"fr\", \"name\": \"Fran\\u00e7ais\"},...</td>\n",
       "      <td>Released</td>\n",
       "      <td>A Plan No One Escapes</td>\n",
       "      <td>Spectre</td>\n",
       "      <td>6.3</td>\n",
       "      <td>4466</td>\n",
       "      <td>Spectre</td>\n",
       "      <td>[{\"cast_id\": 1, \"character\": \"James Bond\", \"cr...</td>\n",
       "      <td>[{\"credit_id\": \"54805967c3a36829b5002c41\", \"de...</td>\n",
       "    </tr>\n",
       "    <tr>\n",
       "      <th>3</th>\n",
       "      <td>250000000</td>\n",
       "      <td>[{\"id\": 28, \"name\": \"Action\"}, {\"id\": 80, \"nam...</td>\n",
       "      <td>http://www.thedarkknightrises.com/</td>\n",
       "      <td>49026</td>\n",
       "      <td>[{\"id\": 849, \"name\": \"dc comics\"}, {\"id\": 853,...</td>\n",
       "      <td>en</td>\n",
       "      <td>The Dark Knight Rises</td>\n",
       "      <td>Following the death of District Attorney Harve...</td>\n",
       "      <td>112.312950</td>\n",
       "      <td>[{\"name\": \"Legendary Pictures\", \"id\": 923}, {\"...</td>\n",
       "      <td>...</td>\n",
       "      <td>165.0</td>\n",
       "      <td>[{\"iso_639_1\": \"en\", \"name\": \"English\"}]</td>\n",
       "      <td>Released</td>\n",
       "      <td>The Legend Ends</td>\n",
       "      <td>The Dark Knight Rises</td>\n",
       "      <td>7.6</td>\n",
       "      <td>9106</td>\n",
       "      <td>The Dark Knight Rises</td>\n",
       "      <td>[{\"cast_id\": 2, \"character\": \"Bruce Wayne / Ba...</td>\n",
       "      <td>[{\"credit_id\": \"52fe4781c3a36847f81398c3\", \"de...</td>\n",
       "    </tr>\n",
       "    <tr>\n",
       "      <th>4</th>\n",
       "      <td>260000000</td>\n",
       "      <td>[{\"id\": 28, \"name\": \"Action\"}, {\"id\": 12, \"nam...</td>\n",
       "      <td>http://movies.disney.com/john-carter</td>\n",
       "      <td>49529</td>\n",
       "      <td>[{\"id\": 818, \"name\": \"based on novel\"}, {\"id\":...</td>\n",
       "      <td>en</td>\n",
       "      <td>John Carter</td>\n",
       "      <td>John Carter is a war-weary, former military ca...</td>\n",
       "      <td>43.926995</td>\n",
       "      <td>[{\"name\": \"Walt Disney Pictures\", \"id\": 2}]</td>\n",
       "      <td>...</td>\n",
       "      <td>132.0</td>\n",
       "      <td>[{\"iso_639_1\": \"en\", \"name\": \"English\"}]</td>\n",
       "      <td>Released</td>\n",
       "      <td>Lost in our world, found in another.</td>\n",
       "      <td>John Carter</td>\n",
       "      <td>6.1</td>\n",
       "      <td>2124</td>\n",
       "      <td>John Carter</td>\n",
       "      <td>[{\"cast_id\": 5, \"character\": \"John Carter\", \"c...</td>\n",
       "      <td>[{\"credit_id\": \"52fe479ac3a36847f813eaa3\", \"de...</td>\n",
       "    </tr>\n",
       "  </tbody>\n",
       "</table>\n",
       "<p>5 rows × 23 columns</p>\n",
       "</div>"
      ],
      "text/plain": [
       "      budget                                             genres  \\\n",
       "0  237000000  [{\"id\": 28, \"name\": \"Action\"}, {\"id\": 12, \"nam...   \n",
       "1  300000000  [{\"id\": 12, \"name\": \"Adventure\"}, {\"id\": 14, \"...   \n",
       "2  245000000  [{\"id\": 28, \"name\": \"Action\"}, {\"id\": 12, \"nam...   \n",
       "3  250000000  [{\"id\": 28, \"name\": \"Action\"}, {\"id\": 80, \"nam...   \n",
       "4  260000000  [{\"id\": 28, \"name\": \"Action\"}, {\"id\": 12, \"nam...   \n",
       "\n",
       "                                       homepage      id  \\\n",
       "0                   http://www.avatarmovie.com/   19995   \n",
       "1  http://disney.go.com/disneypictures/pirates/     285   \n",
       "2   http://www.sonypictures.com/movies/spectre/  206647   \n",
       "3            http://www.thedarkknightrises.com/   49026   \n",
       "4          http://movies.disney.com/john-carter   49529   \n",
       "\n",
       "                                            keywords original_language  \\\n",
       "0  [{\"id\": 1463, \"name\": \"culture clash\"}, {\"id\":...                en   \n",
       "1  [{\"id\": 270, \"name\": \"ocean\"}, {\"id\": 726, \"na...                en   \n",
       "2  [{\"id\": 470, \"name\": \"spy\"}, {\"id\": 818, \"name...                en   \n",
       "3  [{\"id\": 849, \"name\": \"dc comics\"}, {\"id\": 853,...                en   \n",
       "4  [{\"id\": 818, \"name\": \"based on novel\"}, {\"id\":...                en   \n",
       "\n",
       "                             original_title  \\\n",
       "0                                    Avatar   \n",
       "1  Pirates of the Caribbean: At World's End   \n",
       "2                                   Spectre   \n",
       "3                     The Dark Knight Rises   \n",
       "4                               John Carter   \n",
       "\n",
       "                                            overview  popularity  \\\n",
       "0  In the 22nd century, a paraplegic Marine is di...  150.437577   \n",
       "1  Captain Barbossa, long believed to be dead, ha...  139.082615   \n",
       "2  A cryptic message from Bond’s past sends him o...  107.376788   \n",
       "3  Following the death of District Attorney Harve...  112.312950   \n",
       "4  John Carter is a war-weary, former military ca...   43.926995   \n",
       "\n",
       "                                production_companies  ... runtime  \\\n",
       "0  [{\"name\": \"Ingenious Film Partners\", \"id\": 289...  ...   162.0   \n",
       "1  [{\"name\": \"Walt Disney Pictures\", \"id\": 2}, {\"...  ...   169.0   \n",
       "2  [{\"name\": \"Columbia Pictures\", \"id\": 5}, {\"nam...  ...   148.0   \n",
       "3  [{\"name\": \"Legendary Pictures\", \"id\": 923}, {\"...  ...   165.0   \n",
       "4        [{\"name\": \"Walt Disney Pictures\", \"id\": 2}]  ...   132.0   \n",
       "\n",
       "                                    spoken_languages    status  \\\n",
       "0  [{\"iso_639_1\": \"en\", \"name\": \"English\"}, {\"iso...  Released   \n",
       "1           [{\"iso_639_1\": \"en\", \"name\": \"English\"}]  Released   \n",
       "2  [{\"iso_639_1\": \"fr\", \"name\": \"Fran\\u00e7ais\"},...  Released   \n",
       "3           [{\"iso_639_1\": \"en\", \"name\": \"English\"}]  Released   \n",
       "4           [{\"iso_639_1\": \"en\", \"name\": \"English\"}]  Released   \n",
       "\n",
       "                                          tagline  \\\n",
       "0                     Enter the World of Pandora.   \n",
       "1  At the end of the world, the adventure begins.   \n",
       "2                           A Plan No One Escapes   \n",
       "3                                 The Legend Ends   \n",
       "4            Lost in our world, found in another.   \n",
       "\n",
       "                                    title_x vote_average vote_count  \\\n",
       "0                                    Avatar          7.2      11800   \n",
       "1  Pirates of the Caribbean: At World's End          6.9       4500   \n",
       "2                                   Spectre          6.3       4466   \n",
       "3                     The Dark Knight Rises          7.6       9106   \n",
       "4                               John Carter          6.1       2124   \n",
       "\n",
       "                                    title_y  \\\n",
       "0                                    Avatar   \n",
       "1  Pirates of the Caribbean: At World's End   \n",
       "2                                   Spectre   \n",
       "3                     The Dark Knight Rises   \n",
       "4                               John Carter   \n",
       "\n",
       "                                                cast  \\\n",
       "0  [{\"cast_id\": 242, \"character\": \"Jake Sully\", \"...   \n",
       "1  [{\"cast_id\": 4, \"character\": \"Captain Jack Spa...   \n",
       "2  [{\"cast_id\": 1, \"character\": \"James Bond\", \"cr...   \n",
       "3  [{\"cast_id\": 2, \"character\": \"Bruce Wayne / Ba...   \n",
       "4  [{\"cast_id\": 5, \"character\": \"John Carter\", \"c...   \n",
       "\n",
       "                                                crew  \n",
       "0  [{\"credit_id\": \"52fe48009251416c750aca23\", \"de...  \n",
       "1  [{\"credit_id\": \"52fe4232c3a36847f800b579\", \"de...  \n",
       "2  [{\"credit_id\": \"54805967c3a36829b5002c41\", \"de...  \n",
       "3  [{\"credit_id\": \"52fe4781c3a36847f81398c3\", \"de...  \n",
       "4  [{\"credit_id\": \"52fe479ac3a36847f813eaa3\", \"de...  \n",
       "\n",
       "[5 rows x 23 columns]"
      ]
     },
     "execution_count": 6,
     "metadata": {},
     "output_type": "execute_result"
    }
   ],
   "source": [
    "merged_df.head()"
   ]
  },
  {
   "cell_type": "markdown",
   "id": "c9a36b58",
   "metadata": {
    "papermill": {
     "duration": 0.010131,
     "end_time": "2025-02-28T04:03:33.004948",
     "exception": false,
     "start_time": "2025-02-28T04:03:32.994817",
     "status": "completed"
    },
    "tags": []
   },
   "source": [
    "## DEMOGRAPHIC FILTERING BASED ON WEIGHTED RATINGS"
   ]
  },
  {
   "cell_type": "code",
   "execution_count": 7,
   "id": "42dc90f4",
   "metadata": {
    "execution": {
     "iopub.execute_input": "2025-02-28T04:03:33.028254Z",
     "iopub.status.busy": "2025-02-28T04:03:33.027868Z",
     "iopub.status.idle": "2025-02-28T04:03:33.038363Z",
     "shell.execute_reply": "2025-02-28T04:03:33.037174Z"
    },
    "papermill": {
     "duration": 0.024416,
     "end_time": "2025-02-28T04:03:33.040352",
     "exception": false,
     "start_time": "2025-02-28T04:03:33.015936",
     "status": "completed"
    },
    "tags": []
   },
   "outputs": [],
   "source": [
    "C = merged_df['vote_average'].mean()\n",
    "m = merged_df['vote_count'].quantile(0.9)"
   ]
  },
  {
   "cell_type": "code",
   "execution_count": 8,
   "id": "d62c36de",
   "metadata": {
    "execution": {
     "iopub.execute_input": "2025-02-28T04:03:33.062742Z",
     "iopub.status.busy": "2025-02-28T04:03:33.062357Z",
     "iopub.status.idle": "2025-02-28T04:03:33.073449Z",
     "shell.execute_reply": "2025-02-28T04:03:33.072478Z"
    },
    "papermill": {
     "duration": 0.02448,
     "end_time": "2025-02-28T04:03:33.075462",
     "exception": false,
     "start_time": "2025-02-28T04:03:33.050982",
     "status": "completed"
    },
    "tags": []
   },
   "outputs": [],
   "source": [
    "q_movies = merged_df.copy().loc[merged_df['vote_count'] >= m]"
   ]
  },
  {
   "cell_type": "code",
   "execution_count": 9,
   "id": "b78c45f5",
   "metadata": {
    "execution": {
     "iopub.execute_input": "2025-02-28T04:03:33.098470Z",
     "iopub.status.busy": "2025-02-28T04:03:33.098153Z",
     "iopub.status.idle": "2025-02-28T04:03:33.104208Z",
     "shell.execute_reply": "2025-02-28T04:03:33.103129Z"
    },
    "papermill": {
     "duration": 0.019574,
     "end_time": "2025-02-28T04:03:33.105922",
     "exception": false,
     "start_time": "2025-02-28T04:03:33.086348",
     "status": "completed"
    },
    "tags": []
   },
   "outputs": [
    {
     "data": {
      "text/plain": [
       "(481, 23)"
      ]
     },
     "execution_count": 9,
     "metadata": {},
     "output_type": "execute_result"
    }
   ],
   "source": [
    "q_movies.shape"
   ]
  },
  {
   "cell_type": "code",
   "execution_count": 10,
   "id": "cf6ac5f2",
   "metadata": {
    "execution": {
     "iopub.execute_input": "2025-02-28T04:03:33.128710Z",
     "iopub.status.busy": "2025-02-28T04:03:33.128317Z",
     "iopub.status.idle": "2025-02-28T04:03:33.133123Z",
     "shell.execute_reply": "2025-02-28T04:03:33.132140Z"
    },
    "papermill": {
     "duration": 0.018243,
     "end_time": "2025-02-28T04:03:33.135048",
     "exception": false,
     "start_time": "2025-02-28T04:03:33.116805",
     "status": "completed"
    },
    "tags": []
   },
   "outputs": [],
   "source": [
    "def weighted_rating(x, m=m, C=C):\n",
    "    v = x['vote_count']\n",
    "    R = x['vote_average']\n",
    "\n",
    "    return (v/(v+m)*R) + (m/(m+v)*C)"
   ]
  },
  {
   "cell_type": "code",
   "execution_count": 11,
   "id": "ed52b820",
   "metadata": {
    "execution": {
     "iopub.execute_input": "2025-02-28T04:03:33.157818Z",
     "iopub.status.busy": "2025-02-28T04:03:33.157340Z",
     "iopub.status.idle": "2025-02-28T04:03:33.170113Z",
     "shell.execute_reply": "2025-02-28T04:03:33.169096Z"
    },
    "papermill": {
     "duration": 0.025943,
     "end_time": "2025-02-28T04:03:33.171814",
     "exception": false,
     "start_time": "2025-02-28T04:03:33.145871",
     "status": "completed"
    },
    "tags": []
   },
   "outputs": [],
   "source": [
    "q_movies['score'] = q_movies.apply(weighted_rating, axis=1)"
   ]
  },
  {
   "cell_type": "code",
   "execution_count": 12,
   "id": "58cbfbaf",
   "metadata": {
    "execution": {
     "iopub.execute_input": "2025-02-28T04:03:33.194591Z",
     "iopub.status.busy": "2025-02-28T04:03:33.194186Z",
     "iopub.status.idle": "2025-02-28T04:03:33.209679Z",
     "shell.execute_reply": "2025-02-28T04:03:33.208423Z"
    },
    "papermill": {
     "duration": 0.029162,
     "end_time": "2025-02-28T04:03:33.211751",
     "exception": false,
     "start_time": "2025-02-28T04:03:33.182589",
     "status": "completed"
    },
    "tags": []
   },
   "outputs": [
    {
     "data": {
      "text/html": [
       "<div>\n",
       "<style scoped>\n",
       "    .dataframe tbody tr th:only-of-type {\n",
       "        vertical-align: middle;\n",
       "    }\n",
       "\n",
       "    .dataframe tbody tr th {\n",
       "        vertical-align: top;\n",
       "    }\n",
       "\n",
       "    .dataframe thead th {\n",
       "        text-align: right;\n",
       "    }\n",
       "</style>\n",
       "<table border=\"1\" class=\"dataframe\">\n",
       "  <thead>\n",
       "    <tr style=\"text-align: right;\">\n",
       "      <th></th>\n",
       "      <th>title_y</th>\n",
       "      <th>vote_count</th>\n",
       "      <th>vote_average</th>\n",
       "      <th>score</th>\n",
       "    </tr>\n",
       "  </thead>\n",
       "  <tbody>\n",
       "    <tr>\n",
       "      <th>1881</th>\n",
       "      <td>The Shawshank Redemption</td>\n",
       "      <td>8205</td>\n",
       "      <td>8.5</td>\n",
       "      <td>8.059258</td>\n",
       "    </tr>\n",
       "    <tr>\n",
       "      <th>662</th>\n",
       "      <td>Fight Club</td>\n",
       "      <td>9413</td>\n",
       "      <td>8.3</td>\n",
       "      <td>7.939256</td>\n",
       "    </tr>\n",
       "    <tr>\n",
       "      <th>65</th>\n",
       "      <td>The Dark Knight</td>\n",
       "      <td>12002</td>\n",
       "      <td>8.2</td>\n",
       "      <td>7.920020</td>\n",
       "    </tr>\n",
       "    <tr>\n",
       "      <th>3232</th>\n",
       "      <td>Pulp Fiction</td>\n",
       "      <td>8428</td>\n",
       "      <td>8.3</td>\n",
       "      <td>7.904645</td>\n",
       "    </tr>\n",
       "    <tr>\n",
       "      <th>96</th>\n",
       "      <td>Inception</td>\n",
       "      <td>13752</td>\n",
       "      <td>8.1</td>\n",
       "      <td>7.863239</td>\n",
       "    </tr>\n",
       "    <tr>\n",
       "      <th>3337</th>\n",
       "      <td>The Godfather</td>\n",
       "      <td>5893</td>\n",
       "      <td>8.4</td>\n",
       "      <td>7.851236</td>\n",
       "    </tr>\n",
       "    <tr>\n",
       "      <th>95</th>\n",
       "      <td>Interstellar</td>\n",
       "      <td>10867</td>\n",
       "      <td>8.1</td>\n",
       "      <td>7.809479</td>\n",
       "    </tr>\n",
       "    <tr>\n",
       "      <th>809</th>\n",
       "      <td>Forrest Gump</td>\n",
       "      <td>7927</td>\n",
       "      <td>8.2</td>\n",
       "      <td>7.803188</td>\n",
       "    </tr>\n",
       "    <tr>\n",
       "      <th>329</th>\n",
       "      <td>The Lord of the Rings: The Return of the King</td>\n",
       "      <td>8064</td>\n",
       "      <td>8.1</td>\n",
       "      <td>7.727243</td>\n",
       "    </tr>\n",
       "    <tr>\n",
       "      <th>1990</th>\n",
       "      <td>The Empire Strikes Back</td>\n",
       "      <td>5879</td>\n",
       "      <td>8.2</td>\n",
       "      <td>7.697884</td>\n",
       "    </tr>\n",
       "  </tbody>\n",
       "</table>\n",
       "</div>"
      ],
      "text/plain": [
       "                                            title_y  vote_count  vote_average  \\\n",
       "1881                       The Shawshank Redemption        8205           8.5   \n",
       "662                                      Fight Club        9413           8.3   \n",
       "65                                  The Dark Knight       12002           8.2   \n",
       "3232                                   Pulp Fiction        8428           8.3   \n",
       "96                                        Inception       13752           8.1   \n",
       "3337                                  The Godfather        5893           8.4   \n",
       "95                                     Interstellar       10867           8.1   \n",
       "809                                    Forrest Gump        7927           8.2   \n",
       "329   The Lord of the Rings: The Return of the King        8064           8.1   \n",
       "1990                        The Empire Strikes Back        5879           8.2   \n",
       "\n",
       "         score  \n",
       "1881  8.059258  \n",
       "662   7.939256  \n",
       "65    7.920020  \n",
       "3232  7.904645  \n",
       "96    7.863239  \n",
       "3337  7.851236  \n",
       "95    7.809479  \n",
       "809   7.803188  \n",
       "329   7.727243  \n",
       "1990  7.697884  "
      ]
     },
     "execution_count": 12,
     "metadata": {},
     "output_type": "execute_result"
    }
   ],
   "source": [
    "q_movies = q_movies.sort_values('score', ascending = False)\n",
    "\n",
    "q_movies[['title_y', 'vote_count', 'vote_average', 'score']].head(10)"
   ]
  },
  {
   "cell_type": "code",
   "execution_count": 13,
   "id": "72f381cd",
   "metadata": {
    "execution": {
     "iopub.execute_input": "2025-02-28T04:03:33.235009Z",
     "iopub.status.busy": "2025-02-28T04:03:33.234630Z",
     "iopub.status.idle": "2025-02-28T04:03:33.242688Z",
     "shell.execute_reply": "2025-02-28T04:03:33.241767Z"
    },
    "papermill": {
     "duration": 0.021592,
     "end_time": "2025-02-28T04:03:33.244504",
     "exception": false,
     "start_time": "2025-02-28T04:03:33.222912",
     "status": "completed"
    },
    "tags": []
   },
   "outputs": [],
   "source": [
    "pop = merged_df.sort_values('popularity', ascending = False)"
   ]
  },
  {
   "cell_type": "code",
   "execution_count": 14,
   "id": "dc4ae102",
   "metadata": {
    "execution": {
     "iopub.execute_input": "2025-02-28T04:03:33.267401Z",
     "iopub.status.busy": "2025-02-28T04:03:33.267079Z",
     "iopub.status.idle": "2025-02-28T04:03:33.271203Z",
     "shell.execute_reply": "2025-02-28T04:03:33.270243Z"
    },
    "papermill": {
     "duration": 0.017721,
     "end_time": "2025-02-28T04:03:33.273124",
     "exception": false,
     "start_time": "2025-02-28T04:03:33.255403",
     "status": "completed"
    },
    "tags": []
   },
   "outputs": [],
   "source": [
    "from matplotlib.pyplot import subplots"
   ]
  },
  {
   "cell_type": "code",
   "execution_count": 15,
   "id": "bf00209b",
   "metadata": {
    "execution": {
     "iopub.execute_input": "2025-02-28T04:03:33.296384Z",
     "iopub.status.busy": "2025-02-28T04:03:33.296037Z",
     "iopub.status.idle": "2025-02-28T04:03:33.585959Z",
     "shell.execute_reply": "2025-02-28T04:03:33.584741Z"
    },
    "papermill": {
     "duration": 0.303828,
     "end_time": "2025-02-28T04:03:33.587925",
     "exception": false,
     "start_time": "2025-02-28T04:03:33.284097",
     "status": "completed"
    },
    "tags": []
   },
   "outputs": [
    {
     "data": {
      "text/plain": [
       "Text(0, 0.5, 'Popular Movies')"
      ]
     },
     "execution_count": 15,
     "metadata": {},
     "output_type": "execute_result"
    },
    {
     "data": {
      "image/png": "[encoded data removed]",
      "text/plain": [
       "<Figure size 800x800 with 1 Axes>"
      ]
     },
     "metadata": {},
     "output_type": "display_data"
    }
   ],
   "source": [
    "fig, ax = subplots(figsize=(8,8))\n",
    "\n",
    "ax.barh(pop['title_y'].head(6), pop['popularity'].head(6), align='center', color='skyblue')\n",
    "ax.invert_yaxis()\n",
    "ax.set_xlabel('Popularity')\n",
    "ax.set_ylabel('Popular Movies')"
   ]
  },
  {
   "cell_type": "markdown",
   "id": "fa035b45",
   "metadata": {
    "papermill": {
     "duration": 0.011221,
     "end_time": "2025-02-28T04:03:33.611105",
     "exception": false,
     "start_time": "2025-02-28T04:03:33.599884",
     "status": "completed"
    },
    "tags": []
   },
   "source": [
    "## CONTENT BASED FILTERING"
   ]
  },
  {
   "cell_type": "code",
   "execution_count": 16,
   "id": "720d351b",
   "metadata": {
    "execution": {
     "iopub.execute_input": "2025-02-28T04:03:33.635555Z",
     "iopub.status.busy": "2025-02-28T04:03:33.635190Z",
     "iopub.status.idle": "2025-02-28T04:03:33.642788Z",
     "shell.execute_reply": "2025-02-28T04:03:33.641681Z"
    },
    "papermill": {
     "duration": 0.021675,
     "end_time": "2025-02-28T04:03:33.644402",
     "exception": false,
     "start_time": "2025-02-28T04:03:33.622727",
     "status": "completed"
    },
    "tags": []
   },
   "outputs": [
    {
     "data": {
      "text/plain": [
       "0    In the 22nd century, a paraplegic Marine is di...\n",
       "1    Captain Barbossa, long believed to be dead, ha...\n",
       "2    A cryptic message from Bond’s past sends him o...\n",
       "3    Following the death of District Attorney Harve...\n",
       "4    John Carter is a war-weary, former military ca...\n",
       "Name: overview, dtype: object"
      ]
     },
     "execution_count": 16,
     "metadata": {},
     "output_type": "execute_result"
    }
   ],
   "source": [
    "merged_df['overview'].head()"
   ]
  },
  {
   "cell_type": "code",
   "execution_count": 17,
   "id": "63299ae9",
   "metadata": {
    "execution": {
     "iopub.execute_input": "2025-02-28T04:03:33.669001Z",
     "iopub.status.busy": "2025-02-28T04:03:33.668650Z",
     "iopub.status.idle": "2025-02-28T04:03:35.161378Z",
     "shell.execute_reply": "2025-02-28T04:03:35.160486Z"
    },
    "papermill": {
     "duration": 1.507082,
     "end_time": "2025-02-28T04:03:35.163220",
     "exception": false,
     "start_time": "2025-02-28T04:03:33.656138",
     "status": "completed"
    },
    "tags": []
   },
   "outputs": [],
   "source": [
    "from sklearn.feature_extraction.text import TfidfVectorizer"
   ]
  },
  {
   "cell_type": "code",
   "execution_count": 18,
   "id": "a80ba9a9",
   "metadata": {
    "execution": {
     "iopub.execute_input": "2025-02-28T04:03:35.194914Z",
     "iopub.status.busy": "2025-02-28T04:03:35.194044Z",
     "iopub.status.idle": "2025-02-28T04:03:35.571687Z",
     "shell.execute_reply": "2025-02-28T04:03:35.570483Z"
    },
    "papermill": {
     "duration": 0.39822,
     "end_time": "2025-02-28T04:03:35.573908",
     "exception": false,
     "start_time": "2025-02-28T04:03:35.175688",
     "status": "completed"
    },
    "tags": []
   },
   "outputs": [],
   "source": [
    "tfidf = TfidfVectorizer(stop_words='english')\n",
    "\n",
    "merged_df['overview'] = merged_df['overview'].fillna('')\n",
    "\n",
    "tfidf_matrix = tfidf.fit_transform(merged_df['overview'])"
   ]
  },
  {
   "cell_type": "code",
   "execution_count": 19,
   "id": "06e9da78",
   "metadata": {
    "execution": {
     "iopub.execute_input": "2025-02-28T04:03:35.599866Z",
     "iopub.status.busy": "2025-02-28T04:03:35.599389Z",
     "iopub.status.idle": "2025-02-28T04:03:35.605207Z",
     "shell.execute_reply": "2025-02-28T04:03:35.604238Z"
    },
    "papermill": {
     "duration": 0.020976,
     "end_time": "2025-02-28T04:03:35.606789",
     "exception": false,
     "start_time": "2025-02-28T04:03:35.585813",
     "status": "completed"
    },
    "tags": []
   },
   "outputs": [
    {
     "data": {
      "text/plain": [
       "(4803, 20978)"
      ]
     },
     "execution_count": 19,
     "metadata": {},
     "output_type": "execute_result"
    }
   ],
   "source": [
    "tfidf_matrix.shape"
   ]
  },
  {
   "cell_type": "code",
   "execution_count": 20,
   "id": "dc1ab005",
   "metadata": {
    "execution": {
     "iopub.execute_input": "2025-02-28T04:03:35.631554Z",
     "iopub.status.busy": "2025-02-28T04:03:35.631185Z",
     "iopub.status.idle": "2025-02-28T04:03:35.732288Z",
     "shell.execute_reply": "2025-02-28T04:03:35.731156Z"
    },
    "papermill": {
     "duration": 0.115587,
     "end_time": "2025-02-28T04:03:35.734258",
     "exception": false,
     "start_time": "2025-02-28T04:03:35.618671",
     "status": "completed"
    },
    "tags": []
   },
   "outputs": [],
   "source": [
    "from sklearn.metrics.pairwise import linear_kernel"
   ]
  },
  {
   "cell_type": "code",
   "execution_count": 21,
   "id": "e16e9c4f",
   "metadata": {
    "execution": {
     "iopub.execute_input": "2025-02-28T04:03:35.759305Z",
     "iopub.status.busy": "2025-02-28T04:03:35.758924Z",
     "iopub.status.idle": "2025-02-28T04:03:36.256975Z",
     "shell.execute_reply": "2025-02-28T04:03:36.255698Z"
    },
    "papermill": {
     "duration": 0.512676,
     "end_time": "2025-02-28T04:03:36.259034",
     "exception": false,
     "start_time": "2025-02-28T04:03:35.746358",
     "status": "completed"
    },
    "tags": []
   },
   "outputs": [],
   "source": [
    "cosine_sim = linear_kernel(tfidf_matrix, tfidf_matrix)"
   ]
  },
  {
   "cell_type": "code",
   "execution_count": 22,
   "id": "ca607a85",
   "metadata": {
    "execution": {
     "iopub.execute_input": "2025-02-28T04:03:36.284420Z",
     "iopub.status.busy": "2025-02-28T04:03:36.284047Z",
     "iopub.status.idle": "2025-02-28T04:03:36.291043Z",
     "shell.execute_reply": "2025-02-28T04:03:36.290113Z"
    },
    "papermill": {
     "duration": 0.02132,
     "end_time": "2025-02-28T04:03:36.292689",
     "exception": false,
     "start_time": "2025-02-28T04:03:36.271369",
     "status": "completed"
    },
    "tags": []
   },
   "outputs": [],
   "source": [
    "indices = pd.Series(merged_df.index, index = merged_df['title_y']).drop_duplicates()"
   ]
  },
  {
   "cell_type": "code",
   "execution_count": 23,
   "id": "1b1de043",
   "metadata": {
    "execution": {
     "iopub.execute_input": "2025-02-28T04:03:36.317876Z",
     "iopub.status.busy": "2025-02-28T04:03:36.317475Z",
     "iopub.status.idle": "2025-02-28T04:03:36.327501Z",
     "shell.execute_reply": "2025-02-28T04:03:36.326581Z"
    },
    "papermill": {
     "duration": 0.024524,
     "end_time": "2025-02-28T04:03:36.329366",
     "exception": false,
     "start_time": "2025-02-28T04:03:36.304842",
     "status": "completed"
    },
    "tags": []
   },
   "outputs": [
    {
     "data": {
      "text/plain": [
       "title_y\n",
       "Avatar                                         0\n",
       "Pirates of the Caribbean: At World's End       1\n",
       "Spectre                                        2\n",
       "The Dark Knight Rises                          3\n",
       "John Carter                                    4\n",
       "                                            ... \n",
       "El Mariachi                                 4798\n",
       "Newlyweds                                   4799\n",
       "Signed, Sealed, Delivered                   4800\n",
       "Shanghai Calling                            4801\n",
       "My Date with Drew                           4802\n",
       "Length: 4803, dtype: int64"
      ]
     },
     "execution_count": 23,
     "metadata": {},
     "output_type": "execute_result"
    }
   ],
   "source": [
    "indices"
   ]
  },
  {
   "cell_type": "code",
   "execution_count": 24,
   "id": "5722cda2",
   "metadata": {
    "execution": {
     "iopub.execute_input": "2025-02-28T04:03:36.354601Z",
     "iopub.status.busy": "2025-02-28T04:03:36.354193Z",
     "iopub.status.idle": "2025-02-28T04:03:36.360183Z",
     "shell.execute_reply": "2025-02-28T04:03:36.359119Z"
    },
    "papermill": {
     "duration": 0.020501,
     "end_time": "2025-02-28T04:03:36.361904",
     "exception": false,
     "start_time": "2025-02-28T04:03:36.341403",
     "status": "completed"
    },
    "tags": []
   },
   "outputs": [],
   "source": [
    "def get_recommendations(title, cosine_sim = cosine_sim):\n",
    "    \n",
    "    idx = indices[title]\n",
    "\n",
    "    sim_scores = list(enumerate(cosine_sim[idx]))\n",
    "\n",
    "    sim_scores = sorted(sim_scores, key = lambda x: x[1], reverse = True)\n",
    "\n",
    "    sim_scores = sim_scores[1:11]\n",
    "\n",
    "    movie_indices = [i[0] for i in sim_scores]\n",
    "\n",
    "    return merged_df['title_y'].iloc[movie_indices]"
   ]
  },
  {
   "cell_type": "code",
   "execution_count": 25,
   "id": "abd1b424",
   "metadata": {
    "execution": {
     "iopub.execute_input": "2025-02-28T04:03:36.388136Z",
     "iopub.status.busy": "2025-02-28T04:03:36.387759Z",
     "iopub.status.idle": "2025-02-28T04:03:36.399174Z",
     "shell.execute_reply": "2025-02-28T04:03:36.398271Z"
    },
    "papermill": {
     "duration": 0.026384,
     "end_time": "2025-02-28T04:03:36.400828",
     "exception": false,
     "start_time": "2025-02-28T04:03:36.374444",
     "status": "completed"
    },
    "tags": []
   },
   "outputs": [
    {
     "data": {
      "text/plain": [
       "65                              The Dark Knight\n",
       "299                              Batman Forever\n",
       "428                              Batman Returns\n",
       "1359                                     Batman\n",
       "3854    Batman: The Dark Knight Returns, Part 2\n",
       "119                               Batman Begins\n",
       "2507                                  Slow Burn\n",
       "9            Batman v Superman: Dawn of Justice\n",
       "1181                                        JFK\n",
       "210                              Batman & Robin\n",
       "Name: title_y, dtype: object"
      ]
     },
     "execution_count": 25,
     "metadata": {},
     "output_type": "execute_result"
    }
   ],
   "source": [
    "get_recommendations('The Dark Knight Rises')"
   ]
  },
  {
   "cell_type": "code",
   "execution_count": 26,
   "id": "73c6b620",
   "metadata": {
    "execution": {
     "iopub.execute_input": "2025-02-28T04:03:36.425932Z",
     "iopub.status.busy": "2025-02-28T04:03:36.425482Z",
     "iopub.status.idle": "2025-02-28T04:03:44.175118Z",
     "shell.execute_reply": "2025-02-28T04:03:44.174118Z"
    },
    "papermill": {
     "duration": 7.764454,
     "end_time": "2025-02-28T04:03:44.177223",
     "exception": false,
     "start_time": "2025-02-28T04:03:36.412769",
     "status": "completed"
    },
    "tags": []
   },
   "outputs": [],
   "source": [
    "from ast import literal_eval\n",
    "\n",
    "features = ['cast', 'crew', 'keywords', 'genres']\n",
    "\n",
    "for feature in features:\n",
    "    merged_df[feature] = merged_df[feature].apply(literal_eval)"
   ]
  },
  {
   "cell_type": "code",
   "execution_count": 27,
   "id": "b4c20328",
   "metadata": {
    "execution": {
     "iopub.execute_input": "2025-02-28T04:03:44.202411Z",
     "iopub.status.busy": "2025-02-28T04:03:44.202079Z",
     "iopub.status.idle": "2025-02-28T04:03:44.213412Z",
     "shell.execute_reply": "2025-02-28T04:03:44.212445Z"
    },
    "papermill": {
     "duration": 0.025874,
     "end_time": "2025-02-28T04:03:44.215093",
     "exception": false,
     "start_time": "2025-02-28T04:03:44.189219",
     "status": "completed"
    },
    "tags": []
   },
   "outputs": [
    {
     "data": {
      "text/plain": [
       "[{'credit_id': '52fe4232c3a36847f800b579',\n",
       "  'department': 'Camera',\n",
       "  'gender': 2,\n",
       "  'id': 120,\n",
       "  'job': 'Director of Photography',\n",
       "  'name': 'Dariusz Wolski'},\n",
       " {'credit_id': '52fe4232c3a36847f800b4fd',\n",
       "  'department': 'Directing',\n",
       "  'gender': 2,\n",
       "  'id': 1704,\n",
       "  'job': 'Director',\n",
       "  'name': 'Gore Verbinski'},\n",
       " {'credit_id': '52fe4232c3a36847f800b54f',\n",
       "  'department': 'Production',\n",
       "  'gender': 2,\n",
       "  'id': 770,\n",
       "  'job': 'Producer',\n",
       "  'name': 'Jerry Bruckheimer'},\n",
       " {'credit_id': '52fe4232c3a36847f800b503',\n",
       "  'department': 'Writing',\n",
       "  'gender': 2,\n",
       "  'id': 1705,\n",
       "  'job': 'Screenplay',\n",
       "  'name': 'Ted Elliott'},\n",
       " {'credit_id': '52fe4232c3a36847f800b509',\n",
       "  'department': 'Writing',\n",
       "  'gender': 2,\n",
       "  'id': 1706,\n",
       "  'job': 'Screenplay',\n",
       "  'name': 'Terry Rossio'},\n",
       " {'credit_id': '52fe4232c3a36847f800b57f',\n",
       "  'department': 'Editing',\n",
       "  'gender': 0,\n",
       "  'id': 1721,\n",
       "  'job': 'Editor',\n",
       "  'name': 'Stephen E. Rivkin'},\n",
       " {'credit_id': '52fe4232c3a36847f800b585',\n",
       "  'department': 'Editing',\n",
       "  'gender': 2,\n",
       "  'id': 1722,\n",
       "  'job': 'Editor',\n",
       "  'name': 'Craig Wood'},\n",
       " {'credit_id': '52fe4232c3a36847f800b573',\n",
       "  'department': 'Sound',\n",
       "  'gender': 2,\n",
       "  'id': 947,\n",
       "  'job': 'Original Music Composer',\n",
       "  'name': 'Hans Zimmer'},\n",
       " {'credit_id': '52fe4232c3a36847f800b555',\n",
       "  'department': 'Production',\n",
       "  'gender': 2,\n",
       "  'id': 2444,\n",
       "  'job': 'Executive Producer',\n",
       "  'name': 'Mike Stenson'},\n",
       " {'credit_id': '52fe4232c3a36847f800b561',\n",
       "  'department': 'Production',\n",
       "  'gender': 2,\n",
       "  'id': 2445,\n",
       "  'job': 'Producer',\n",
       "  'name': 'Eric McLeod'},\n",
       " {'credit_id': '52fe4232c3a36847f800b55b',\n",
       "  'department': 'Production',\n",
       "  'gender': 2,\n",
       "  'id': 2446,\n",
       "  'job': 'Producer',\n",
       "  'name': 'Chad Oman'},\n",
       " {'credit_id': '52fe4232c3a36847f800b567',\n",
       "  'department': 'Production',\n",
       "  'gender': 0,\n",
       "  'id': 2447,\n",
       "  'job': 'Producer',\n",
       "  'name': 'Peter Kohn'},\n",
       " {'credit_id': '52fe4232c3a36847f800b56d',\n",
       "  'department': 'Production',\n",
       "  'gender': 0,\n",
       "  'id': 2448,\n",
       "  'job': 'Producer',\n",
       "  'name': 'Pat Sandston'},\n",
       " {'credit_id': '52fe4232c3a36847f800b58b',\n",
       "  'department': 'Production',\n",
       "  'gender': 1,\n",
       "  'id': 2215,\n",
       "  'job': 'Casting',\n",
       "  'name': 'Denise Chamian'},\n",
       " {'credit_id': '52fe4232c3a36847f800b597',\n",
       "  'department': 'Art',\n",
       "  'gender': 2,\n",
       "  'id': 1226,\n",
       "  'job': 'Production Design',\n",
       "  'name': 'Rick Heinrichs'},\n",
       " {'credit_id': '52fe4232c3a36847f800b59d',\n",
       "  'department': 'Art',\n",
       "  'gender': 2,\n",
       "  'id': 553,\n",
       "  'job': 'Art Direction',\n",
       "  'name': 'John Dexter'},\n",
       " {'credit_id': '52fe4232c3a36847f800b591',\n",
       "  'department': 'Production',\n",
       "  'gender': 1,\n",
       "  'id': 3311,\n",
       "  'job': 'Casting',\n",
       "  'name': 'Priscilla John'},\n",
       " {'credit_id': '52fe4232c3a36847f800b5a3',\n",
       "  'department': 'Art',\n",
       "  'gender': 1,\n",
       "  'id': 4032,\n",
       "  'job': 'Set Decoration',\n",
       "  'name': 'Cheryl Carasik'},\n",
       " {'credit_id': '52fe4232c3a36847f800b5a9',\n",
       "  'department': 'Costume & Make-Up',\n",
       "  'gender': 0,\n",
       "  'id': 4033,\n",
       "  'job': 'Costume Design',\n",
       "  'name': 'Liz Dann'},\n",
       " {'credit_id': '52fe4232c3a36847f800b5af',\n",
       "  'department': 'Costume & Make-Up',\n",
       "  'gender': 1,\n",
       "  'id': 4034,\n",
       "  'job': 'Costume Design',\n",
       "  'name': 'Penny Rose'},\n",
       " {'credit_id': '56427ce8c3a3686a53000d8b',\n",
       "  'department': 'Sound',\n",
       "  'gender': 2,\n",
       "  'id': 5132,\n",
       "  'job': 'Music Supervisor',\n",
       "  'name': 'Bob Badami'},\n",
       " {'credit_id': '55993c15c3a36855db002f33',\n",
       "  'department': 'Art',\n",
       "  'gender': 2,\n",
       "  'id': 146439,\n",
       "  'job': 'Conceptual Design',\n",
       "  'name': 'James Ward Byrkit'},\n",
       " {'credit_id': '52fe4232c3a36847f800b5b9',\n",
       "  'department': 'Costume & Make-Up',\n",
       "  'gender': 1,\n",
       "  'id': 406204,\n",
       "  'job': 'Makeup Department Head',\n",
       "  'name': 'Ve Neill'},\n",
       " {'credit_id': '56e47f7892514132690017bd',\n",
       "  'department': 'Crew',\n",
       "  'gender': 2,\n",
       "  'id': 1259516,\n",
       "  'job': 'Stunts',\n",
       "  'name': 'John Dixon'},\n",
       " {'credit_id': '5740be639251416597000849',\n",
       "  'department': 'Crew',\n",
       "  'gender': 0,\n",
       "  'id': 1336716,\n",
       "  'job': 'CGI Supervisor',\n",
       "  'name': 'Dottie Starling'},\n",
       " {'credit_id': '56427c639251412fc8000dc1',\n",
       "  'department': 'Directing',\n",
       "  'gender': 1,\n",
       "  'id': 1344278,\n",
       "  'job': 'Script Supervisor',\n",
       "  'name': 'Pamela Alch'},\n",
       " {'credit_id': '57083101c3a3681d320004e6',\n",
       "  'department': 'Crew',\n",
       "  'gender': 0,\n",
       "  'id': 1368867,\n",
       "  'job': 'Special Effects Coordinator',\n",
       "  'name': 'Allen Hall'},\n",
       " {'credit_id': '56427d5ec3a3686a62000d4a',\n",
       "  'department': 'Sound',\n",
       "  'gender': 0,\n",
       "  'id': 1368884,\n",
       "  'job': 'Music Editor',\n",
       "  'name': 'Melissa Muik'},\n",
       " {'credit_id': '56427c7b9251412fd4000e07',\n",
       "  'department': 'Directing',\n",
       "  'gender': 1,\n",
       "  'id': 1395290,\n",
       "  'job': 'Script Supervisor',\n",
       "  'name': 'Sharron Reynolds'},\n",
       " {'credit_id': '56427d2bc3a3686a53000d9b',\n",
       "  'department': 'Sound',\n",
       "  'gender': 0,\n",
       "  'id': 1399327,\n",
       "  'job': 'Music Editor',\n",
       "  'name': 'Barbara McDermott'},\n",
       " {'credit_id': '56427cb4c3a3686a53000d87',\n",
       "  'department': 'Directing',\n",
       "  'gender': 1,\n",
       "  'id': 1400738,\n",
       "  'job': 'Script Supervisor',\n",
       "  'name': 'Karen Golden'},\n",
       " {'credit_id': '56427d169251412fd4000e23',\n",
       "  'department': 'Sound',\n",
       "  'gender': 0,\n",
       "  'id': 1534197,\n",
       "  'job': 'Music Editor',\n",
       "  'name': 'Katie Greathouse'}]"
      ]
     },
     "execution_count": 27,
     "metadata": {},
     "output_type": "execute_result"
    }
   ],
   "source": [
    "merged_df['crew'].iloc[1]"
   ]
  },
  {
   "cell_type": "code",
   "execution_count": 28,
   "id": "1e22fde1",
   "metadata": {
    "execution": {
     "iopub.execute_input": "2025-02-28T04:03:44.244107Z",
     "iopub.status.busy": "2025-02-28T04:03:44.243755Z",
     "iopub.status.idle": "2025-02-28T04:03:44.249278Z",
     "shell.execute_reply": "2025-02-28T04:03:44.247947Z"
    },
    "papermill": {
     "duration": 0.023468,
     "end_time": "2025-02-28T04:03:44.251094",
     "exception": false,
     "start_time": "2025-02-28T04:03:44.227626",
     "status": "completed"
    },
    "tags": []
   },
   "outputs": [],
   "source": [
    "def get_director(x):\n",
    "\n",
    "    for i in x:\n",
    "        if i['job'] == 'Director':\n",
    "            return i['name']\n",
    "    return np.nan"
   ]
  },
  {
   "cell_type": "code",
   "execution_count": 29,
   "id": "77d2bbe6",
   "metadata": {
    "execution": {
     "iopub.execute_input": "2025-02-28T04:03:44.276641Z",
     "iopub.status.busy": "2025-02-28T04:03:44.276214Z",
     "iopub.status.idle": "2025-02-28T04:03:44.281499Z",
     "shell.execute_reply": "2025-02-28T04:03:44.280450Z"
    },
    "papermill": {
     "duration": 0.020087,
     "end_time": "2025-02-28T04:03:44.283352",
     "exception": false,
     "start_time": "2025-02-28T04:03:44.263265",
     "status": "completed"
    },
    "tags": []
   },
   "outputs": [],
   "source": [
    "def get_list(x):\n",
    "\n",
    "    if isinstance(x, list):\n",
    "        names = [i['name'] for i in x]\n",
    "\n",
    "        if len(names) > 3:\n",
    "            names = names[:3]\n",
    "\n",
    "        return names\n",
    "\n",
    "    return []"
   ]
  },
  {
   "cell_type": "code",
   "execution_count": 30,
   "id": "7c96b619",
   "metadata": {
    "execution": {
     "iopub.execute_input": "2025-02-28T04:03:44.310455Z",
     "iopub.status.busy": "2025-02-28T04:03:44.310095Z",
     "iopub.status.idle": "2025-02-28T04:03:44.417036Z",
     "shell.execute_reply": "2025-02-28T04:03:44.415822Z"
    },
    "papermill": {
     "duration": 0.122698,
     "end_time": "2025-02-28T04:03:44.419015",
     "exception": false,
     "start_time": "2025-02-28T04:03:44.296317",
     "status": "completed"
    },
    "tags": []
   },
   "outputs": [],
   "source": [
    "merged_df['director'] = merged_df['crew'].apply(get_director)\n",
    "\n",
    "features = ['cast', 'keywords', 'genres']\n",
    "\n",
    "for feature in features:\n",
    "    merged_df[feature] = merged_df[feature].apply(get_list)"
   ]
  },
  {
   "cell_type": "code",
   "execution_count": 31,
   "id": "40673adb",
   "metadata": {
    "execution": {
     "iopub.execute_input": "2025-02-28T04:03:44.445477Z",
     "iopub.status.busy": "2025-02-28T04:03:44.445131Z",
     "iopub.status.idle": "2025-02-28T04:03:44.466759Z",
     "shell.execute_reply": "2025-02-28T04:03:44.465676Z"
    },
    "papermill": {
     "duration": 0.037291,
     "end_time": "2025-02-28T04:03:44.468453",
     "exception": false,
     "start_time": "2025-02-28T04:03:44.431162",
     "status": "completed"
    },
    "tags": []
   },
   "outputs": [
    {
     "data": {
      "text/html": [
       "<div>\n",
       "<style scoped>\n",
       "    .dataframe tbody tr th:only-of-type {\n",
       "        vertical-align: middle;\n",
       "    }\n",
       "\n",
       "    .dataframe tbody tr th {\n",
       "        vertical-align: top;\n",
       "    }\n",
       "\n",
       "    .dataframe thead th {\n",
       "        text-align: right;\n",
       "    }\n",
       "</style>\n",
       "<table border=\"1\" class=\"dataframe\">\n",
       "  <thead>\n",
       "    <tr style=\"text-align: right;\">\n",
       "      <th></th>\n",
       "      <th>title_y</th>\n",
       "      <th>cast</th>\n",
       "      <th>director</th>\n",
       "      <th>keywords</th>\n",
       "      <th>genres</th>\n",
       "    </tr>\n",
       "  </thead>\n",
       "  <tbody>\n",
       "    <tr>\n",
       "      <th>0</th>\n",
       "      <td>Avatar</td>\n",
       "      <td>[Sam Worthington, Zoe Saldana, Sigourney Weaver]</td>\n",
       "      <td>James Cameron</td>\n",
       "      <td>[culture clash, future, space war]</td>\n",
       "      <td>[Action, Adventure, Fantasy]</td>\n",
       "    </tr>\n",
       "    <tr>\n",
       "      <th>1</th>\n",
       "      <td>Pirates of the Caribbean: At World's End</td>\n",
       "      <td>[Johnny Depp, Orlando Bloom, Keira Knightley]</td>\n",
       "      <td>Gore Verbinski</td>\n",
       "      <td>[ocean, drug abuse, exotic island]</td>\n",
       "      <td>[Adventure, Fantasy, Action]</td>\n",
       "    </tr>\n",
       "    <tr>\n",
       "      <th>2</th>\n",
       "      <td>Spectre</td>\n",
       "      <td>[Daniel Craig, Christoph Waltz, Léa Seydoux]</td>\n",
       "      <td>Sam Mendes</td>\n",
       "      <td>[spy, based on novel, secret agent]</td>\n",
       "      <td>[Action, Adventure, Crime]</td>\n",
       "    </tr>\n",
       "    <tr>\n",
       "      <th>3</th>\n",
       "      <td>The Dark Knight Rises</td>\n",
       "      <td>[Christian Bale, Michael Caine, Gary Oldman]</td>\n",
       "      <td>Christopher Nolan</td>\n",
       "      <td>[dc comics, crime fighter, terrorist]</td>\n",
       "      <td>[Action, Crime, Drama]</td>\n",
       "    </tr>\n",
       "    <tr>\n",
       "      <th>4</th>\n",
       "      <td>John Carter</td>\n",
       "      <td>[Taylor Kitsch, Lynn Collins, Samantha Morton]</td>\n",
       "      <td>Andrew Stanton</td>\n",
       "      <td>[based on novel, mars, medallion]</td>\n",
       "      <td>[Action, Adventure, Science Fiction]</td>\n",
       "    </tr>\n",
       "    <tr>\n",
       "      <th>...</th>\n",
       "      <td>...</td>\n",
       "      <td>...</td>\n",
       "      <td>...</td>\n",
       "      <td>...</td>\n",
       "      <td>...</td>\n",
       "    </tr>\n",
       "    <tr>\n",
       "      <th>4798</th>\n",
       "      <td>El Mariachi</td>\n",
       "      <td>[Carlos Gallardo, Jaime de Hoyos, Peter Marqua...</td>\n",
       "      <td>Robert Rodriguez</td>\n",
       "      <td>[united states–mexico barrier, legs, arms]</td>\n",
       "      <td>[Action, Crime, Thriller]</td>\n",
       "    </tr>\n",
       "    <tr>\n",
       "      <th>4799</th>\n",
       "      <td>Newlyweds</td>\n",
       "      <td>[Edward Burns, Kerry Bishé, Marsha Dietlein]</td>\n",
       "      <td>Edward Burns</td>\n",
       "      <td>[]</td>\n",
       "      <td>[Comedy, Romance]</td>\n",
       "    </tr>\n",
       "    <tr>\n",
       "      <th>4800</th>\n",
       "      <td>Signed, Sealed, Delivered</td>\n",
       "      <td>[Eric Mabius, Kristin Booth, Crystal Lowe]</td>\n",
       "      <td>Scott Smith</td>\n",
       "      <td>[date, love at first sight, narration]</td>\n",
       "      <td>[Comedy, Drama, Romance]</td>\n",
       "    </tr>\n",
       "    <tr>\n",
       "      <th>4801</th>\n",
       "      <td>Shanghai Calling</td>\n",
       "      <td>[Daniel Henney, Eliza Coupe, Bill Paxton]</td>\n",
       "      <td>Daniel Hsia</td>\n",
       "      <td>[]</td>\n",
       "      <td>[]</td>\n",
       "    </tr>\n",
       "    <tr>\n",
       "      <th>4802</th>\n",
       "      <td>My Date with Drew</td>\n",
       "      <td>[Drew Barrymore, Brian Herzlinger, Corey Feldman]</td>\n",
       "      <td>Brian Herzlinger</td>\n",
       "      <td>[obsession, camcorder, crush]</td>\n",
       "      <td>[Documentary]</td>\n",
       "    </tr>\n",
       "  </tbody>\n",
       "</table>\n",
       "<p>4803 rows × 5 columns</p>\n",
       "</div>"
      ],
      "text/plain": [
       "                                       title_y  \\\n",
       "0                                       Avatar   \n",
       "1     Pirates of the Caribbean: At World's End   \n",
       "2                                      Spectre   \n",
       "3                        The Dark Knight Rises   \n",
       "4                                  John Carter   \n",
       "...                                        ...   \n",
       "4798                               El Mariachi   \n",
       "4799                                 Newlyweds   \n",
       "4800                 Signed, Sealed, Delivered   \n",
       "4801                          Shanghai Calling   \n",
       "4802                         My Date with Drew   \n",
       "\n",
       "                                                   cast           director  \\\n",
       "0      [Sam Worthington, Zoe Saldana, Sigourney Weaver]      James Cameron   \n",
       "1         [Johnny Depp, Orlando Bloom, Keira Knightley]     Gore Verbinski   \n",
       "2          [Daniel Craig, Christoph Waltz, Léa Seydoux]         Sam Mendes   \n",
       "3          [Christian Bale, Michael Caine, Gary Oldman]  Christopher Nolan   \n",
       "4        [Taylor Kitsch, Lynn Collins, Samantha Morton]     Andrew Stanton   \n",
       "...                                                 ...                ...   \n",
       "4798  [Carlos Gallardo, Jaime de Hoyos, Peter Marqua...   Robert Rodriguez   \n",
       "4799       [Edward Burns, Kerry Bishé, Marsha Dietlein]       Edward Burns   \n",
       "4800         [Eric Mabius, Kristin Booth, Crystal Lowe]        Scott Smith   \n",
       "4801          [Daniel Henney, Eliza Coupe, Bill Paxton]        Daniel Hsia   \n",
       "4802  [Drew Barrymore, Brian Herzlinger, Corey Feldman]   Brian Herzlinger   \n",
       "\n",
       "                                        keywords  \\\n",
       "0             [culture clash, future, space war]   \n",
       "1             [ocean, drug abuse, exotic island]   \n",
       "2            [spy, based on novel, secret agent]   \n",
       "3          [dc comics, crime fighter, terrorist]   \n",
       "4              [based on novel, mars, medallion]   \n",
       "...                                          ...   \n",
       "4798  [united states–mexico barrier, legs, arms]   \n",
       "4799                                          []   \n",
       "4800      [date, love at first sight, narration]   \n",
       "4801                                          []   \n",
       "4802               [obsession, camcorder, crush]   \n",
       "\n",
       "                                    genres  \n",
       "0             [Action, Adventure, Fantasy]  \n",
       "1             [Adventure, Fantasy, Action]  \n",
       "2               [Action, Adventure, Crime]  \n",
       "3                   [Action, Crime, Drama]  \n",
       "4     [Action, Adventure, Science Fiction]  \n",
       "...                                    ...  \n",
       "4798             [Action, Crime, Thriller]  \n",
       "4799                     [Comedy, Romance]  \n",
       "4800              [Comedy, Drama, Romance]  \n",
       "4801                                    []  \n",
       "4802                         [Documentary]  \n",
       "\n",
       "[4803 rows x 5 columns]"
      ]
     },
     "execution_count": 31,
     "metadata": {},
     "output_type": "execute_result"
    }
   ],
   "source": [
    "merged_df[['title_y', 'cast', 'director', 'keywords', 'genres']]"
   ]
  },
  {
   "cell_type": "code",
   "execution_count": 32,
   "id": "0d7c5402",
   "metadata": {
    "execution": {
     "iopub.execute_input": "2025-02-28T04:03:44.495963Z",
     "iopub.status.busy": "2025-02-28T04:03:44.495495Z",
     "iopub.status.idle": "2025-02-28T04:03:44.510985Z",
     "shell.execute_reply": "2025-02-28T04:03:44.509741Z"
    },
    "papermill": {
     "duration": 0.031173,
     "end_time": "2025-02-28T04:03:44.512814",
     "exception": false,
     "start_time": "2025-02-28T04:03:44.481641",
     "status": "completed"
    },
    "tags": []
   },
   "outputs": [
    {
     "data": {
      "text/html": [
       "<div>\n",
       "<style scoped>\n",
       "    .dataframe tbody tr th:only-of-type {\n",
       "        vertical-align: middle;\n",
       "    }\n",
       "\n",
       "    .dataframe tbody tr th {\n",
       "        vertical-align: top;\n",
       "    }\n",
       "\n",
       "    .dataframe thead th {\n",
       "        text-align: right;\n",
       "    }\n",
       "</style>\n",
       "<table border=\"1\" class=\"dataframe\">\n",
       "  <thead>\n",
       "    <tr style=\"text-align: right;\">\n",
       "      <th></th>\n",
       "      <th>title_y</th>\n",
       "      <th>cast</th>\n",
       "      <th>director</th>\n",
       "      <th>keywords</th>\n",
       "      <th>genres</th>\n",
       "    </tr>\n",
       "  </thead>\n",
       "  <tbody>\n",
       "    <tr>\n",
       "      <th>0</th>\n",
       "      <td>Avatar</td>\n",
       "      <td>[Sam Worthington, Zoe Saldana, Sigourney Weaver]</td>\n",
       "      <td>James Cameron</td>\n",
       "      <td>[culture clash, future, space war]</td>\n",
       "      <td>[Action, Adventure, Fantasy]</td>\n",
       "    </tr>\n",
       "    <tr>\n",
       "      <th>1</th>\n",
       "      <td>Pirates of the Caribbean: At World's End</td>\n",
       "      <td>[Johnny Depp, Orlando Bloom, Keira Knightley]</td>\n",
       "      <td>Gore Verbinski</td>\n",
       "      <td>[ocean, drug abuse, exotic island]</td>\n",
       "      <td>[Adventure, Fantasy, Action]</td>\n",
       "    </tr>\n",
       "    <tr>\n",
       "      <th>2</th>\n",
       "      <td>Spectre</td>\n",
       "      <td>[Daniel Craig, Christoph Waltz, Léa Seydoux]</td>\n",
       "      <td>Sam Mendes</td>\n",
       "      <td>[spy, based on novel, secret agent]</td>\n",
       "      <td>[Action, Adventure, Crime]</td>\n",
       "    </tr>\n",
       "  </tbody>\n",
       "</table>\n",
       "</div>"
      ],
      "text/plain": [
       "                                    title_y  \\\n",
       "0                                    Avatar   \n",
       "1  Pirates of the Caribbean: At World's End   \n",
       "2                                   Spectre   \n",
       "\n",
       "                                               cast        director  \\\n",
       "0  [Sam Worthington, Zoe Saldana, Sigourney Weaver]   James Cameron   \n",
       "1     [Johnny Depp, Orlando Bloom, Keira Knightley]  Gore Verbinski   \n",
       "2      [Daniel Craig, Christoph Waltz, Léa Seydoux]      Sam Mendes   \n",
       "\n",
       "                              keywords                        genres  \n",
       "0   [culture clash, future, space war]  [Action, Adventure, Fantasy]  \n",
       "1   [ocean, drug abuse, exotic island]  [Adventure, Fantasy, Action]  \n",
       "2  [spy, based on novel, secret agent]    [Action, Adventure, Crime]  "
      ]
     },
     "execution_count": 32,
     "metadata": {},
     "output_type": "execute_result"
    }
   ],
   "source": [
    "merged_df[['title_y', 'cast', 'director', 'keywords', 'genres']].head(3)"
   ]
  },
  {
   "cell_type": "code",
   "execution_count": 33,
   "id": "b6ea9732",
   "metadata": {
    "execution": {
     "iopub.execute_input": "2025-02-28T04:03:44.541160Z",
     "iopub.status.busy": "2025-02-28T04:03:44.540495Z",
     "iopub.status.idle": "2025-02-28T04:03:44.546116Z",
     "shell.execute_reply": "2025-02-28T04:03:44.544952Z"
    },
    "papermill": {
     "duration": 0.021758,
     "end_time": "2025-02-28T04:03:44.548125",
     "exception": false,
     "start_time": "2025-02-28T04:03:44.526367",
     "status": "completed"
    },
    "tags": []
   },
   "outputs": [],
   "source": [
    "def clean_data(x):\n",
    "    if isinstance(x, list):\n",
    "        return [str.lower(i.replace(\" \", '')) for i in x]\n",
    "\n",
    "    else:\n",
    "        if isinstance(x, str):\n",
    "            return str.lower(x.replace(\" \", ''))\n",
    "        else:\n",
    "            return ''"
   ]
  },
  {
   "cell_type": "code",
   "execution_count": 34,
   "id": "46ab3295",
   "metadata": {
    "execution": {
     "iopub.execute_input": "2025-02-28T04:03:44.574942Z",
     "iopub.status.busy": "2025-02-28T04:03:44.574584Z",
     "iopub.status.idle": "2025-02-28T04:03:44.610300Z",
     "shell.execute_reply": "2025-02-28T04:03:44.609250Z"
    },
    "papermill": {
     "duration": 0.051147,
     "end_time": "2025-02-28T04:03:44.612200",
     "exception": false,
     "start_time": "2025-02-28T04:03:44.561053",
     "status": "completed"
    },
    "tags": []
   },
   "outputs": [],
   "source": [
    "features = ['cast', 'keywords', 'genres', 'director']\n",
    "\n",
    "for feature in features:\n",
    "    merged_df[feature] = merged_df[feature].apply(clean_data)"
   ]
  },
  {
   "cell_type": "code",
   "execution_count": 35,
   "id": "a85224af",
   "metadata": {
    "execution": {
     "iopub.execute_input": "2025-02-28T04:03:44.639821Z",
     "iopub.status.busy": "2025-02-28T04:03:44.639437Z",
     "iopub.status.idle": "2025-02-28T04:03:44.660050Z",
     "shell.execute_reply": "2025-02-28T04:03:44.658967Z"
    },
    "papermill": {
     "duration": 0.035956,
     "end_time": "2025-02-28T04:03:44.661904",
     "exception": false,
     "start_time": "2025-02-28T04:03:44.625948",
     "status": "completed"
    },
    "tags": []
   },
   "outputs": [
    {
     "data": {
      "text/html": [
       "<div>\n",
       "<style scoped>\n",
       "    .dataframe tbody tr th:only-of-type {\n",
       "        vertical-align: middle;\n",
       "    }\n",
       "\n",
       "    .dataframe tbody tr th {\n",
       "        vertical-align: top;\n",
       "    }\n",
       "\n",
       "    .dataframe thead th {\n",
       "        text-align: right;\n",
       "    }\n",
       "</style>\n",
       "<table border=\"1\" class=\"dataframe\">\n",
       "  <thead>\n",
       "    <tr style=\"text-align: right;\">\n",
       "      <th></th>\n",
       "      <th>cast</th>\n",
       "      <th>keywords</th>\n",
       "      <th>genres</th>\n",
       "      <th>director</th>\n",
       "    </tr>\n",
       "  </thead>\n",
       "  <tbody>\n",
       "    <tr>\n",
       "      <th>0</th>\n",
       "      <td>[samworthington, zoesaldana, sigourneyweaver]</td>\n",
       "      <td>[cultureclash, future, spacewar]</td>\n",
       "      <td>[action, adventure, fantasy]</td>\n",
       "      <td>jamescameron</td>\n",
       "    </tr>\n",
       "    <tr>\n",
       "      <th>1</th>\n",
       "      <td>[johnnydepp, orlandobloom, keiraknightley]</td>\n",
       "      <td>[ocean, drugabuse, exoticisland]</td>\n",
       "      <td>[adventure, fantasy, action]</td>\n",
       "      <td>goreverbinski</td>\n",
       "    </tr>\n",
       "    <tr>\n",
       "      <th>2</th>\n",
       "      <td>[danielcraig, christophwaltz, léaseydoux]</td>\n",
       "      <td>[spy, basedonnovel, secretagent]</td>\n",
       "      <td>[action, adventure, crime]</td>\n",
       "      <td>sammendes</td>\n",
       "    </tr>\n",
       "    <tr>\n",
       "      <th>3</th>\n",
       "      <td>[christianbale, michaelcaine, garyoldman]</td>\n",
       "      <td>[dccomics, crimefighter, terrorist]</td>\n",
       "      <td>[action, crime, drama]</td>\n",
       "      <td>christophernolan</td>\n",
       "    </tr>\n",
       "    <tr>\n",
       "      <th>4</th>\n",
       "      <td>[taylorkitsch, lynncollins, samanthamorton]</td>\n",
       "      <td>[basedonnovel, mars, medallion]</td>\n",
       "      <td>[action, adventure, sciencefiction]</td>\n",
       "      <td>andrewstanton</td>\n",
       "    </tr>\n",
       "    <tr>\n",
       "      <th>...</th>\n",
       "      <td>...</td>\n",
       "      <td>...</td>\n",
       "      <td>...</td>\n",
       "      <td>...</td>\n",
       "    </tr>\n",
       "    <tr>\n",
       "      <th>4798</th>\n",
       "      <td>[carlosgallardo, jaimedehoyos, petermarquardt]</td>\n",
       "      <td>[unitedstates–mexicobarrier, legs, arms]</td>\n",
       "      <td>[action, crime, thriller]</td>\n",
       "      <td>robertrodriguez</td>\n",
       "    </tr>\n",
       "    <tr>\n",
       "      <th>4799</th>\n",
       "      <td>[edwardburns, kerrybishé, marshadietlein]</td>\n",
       "      <td>[]</td>\n",
       "      <td>[comedy, romance]</td>\n",
       "      <td>edwardburns</td>\n",
       "    </tr>\n",
       "    <tr>\n",
       "      <th>4800</th>\n",
       "      <td>[ericmabius, kristinbooth, crystallowe]</td>\n",
       "      <td>[date, loveatfirstsight, narration]</td>\n",
       "      <td>[comedy, drama, romance]</td>\n",
       "      <td>scottsmith</td>\n",
       "    </tr>\n",
       "    <tr>\n",
       "      <th>4801</th>\n",
       "      <td>[danielhenney, elizacoupe, billpaxton]</td>\n",
       "      <td>[]</td>\n",
       "      <td>[]</td>\n",
       "      <td>danielhsia</td>\n",
       "    </tr>\n",
       "    <tr>\n",
       "      <th>4802</th>\n",
       "      <td>[drewbarrymore, brianherzlinger, coreyfeldman]</td>\n",
       "      <td>[obsession, camcorder, crush]</td>\n",
       "      <td>[documentary]</td>\n",
       "      <td>brianherzlinger</td>\n",
       "    </tr>\n",
       "  </tbody>\n",
       "</table>\n",
       "<p>4803 rows × 4 columns</p>\n",
       "</div>"
      ],
      "text/plain": [
       "                                                cast  \\\n",
       "0      [samworthington, zoesaldana, sigourneyweaver]   \n",
       "1         [johnnydepp, orlandobloom, keiraknightley]   \n",
       "2          [danielcraig, christophwaltz, léaseydoux]   \n",
       "3          [christianbale, michaelcaine, garyoldman]   \n",
       "4        [taylorkitsch, lynncollins, samanthamorton]   \n",
       "...                                              ...   \n",
       "4798  [carlosgallardo, jaimedehoyos, petermarquardt]   \n",
       "4799       [edwardburns, kerrybishé, marshadietlein]   \n",
       "4800         [ericmabius, kristinbooth, crystallowe]   \n",
       "4801          [danielhenney, elizacoupe, billpaxton]   \n",
       "4802  [drewbarrymore, brianherzlinger, coreyfeldman]   \n",
       "\n",
       "                                      keywords  \\\n",
       "0             [cultureclash, future, spacewar]   \n",
       "1             [ocean, drugabuse, exoticisland]   \n",
       "2             [spy, basedonnovel, secretagent]   \n",
       "3          [dccomics, crimefighter, terrorist]   \n",
       "4              [basedonnovel, mars, medallion]   \n",
       "...                                        ...   \n",
       "4798  [unitedstates–mexicobarrier, legs, arms]   \n",
       "4799                                        []   \n",
       "4800       [date, loveatfirstsight, narration]   \n",
       "4801                                        []   \n",
       "4802             [obsession, camcorder, crush]   \n",
       "\n",
       "                                   genres          director  \n",
       "0            [action, adventure, fantasy]      jamescameron  \n",
       "1            [adventure, fantasy, action]     goreverbinski  \n",
       "2              [action, adventure, crime]         sammendes  \n",
       "3                  [action, crime, drama]  christophernolan  \n",
       "4     [action, adventure, sciencefiction]     andrewstanton  \n",
       "...                                   ...               ...  \n",
       "4798            [action, crime, thriller]   robertrodriguez  \n",
       "4799                    [comedy, romance]       edwardburns  \n",
       "4800             [comedy, drama, romance]        scottsmith  \n",
       "4801                                   []        danielhsia  \n",
       "4802                        [documentary]   brianherzlinger  \n",
       "\n",
       "[4803 rows x 4 columns]"
      ]
     },
     "execution_count": 35,
     "metadata": {},
     "output_type": "execute_result"
    }
   ],
   "source": [
    "merged_df[features]"
   ]
  },
  {
   "cell_type": "code",
   "execution_count": 36,
   "id": "2c0ffab2",
   "metadata": {
    "execution": {
     "iopub.execute_input": "2025-02-28T04:03:44.690193Z",
     "iopub.status.busy": "2025-02-28T04:03:44.689846Z",
     "iopub.status.idle": "2025-02-28T04:03:44.769100Z",
     "shell.execute_reply": "2025-02-28T04:03:44.767898Z"
    },
    "papermill": {
     "duration": 0.095974,
     "end_time": "2025-02-28T04:03:44.771331",
     "exception": false,
     "start_time": "2025-02-28T04:03:44.675357",
     "status": "completed"
    },
    "tags": []
   },
   "outputs": [],
   "source": [
    "def create_soup(x):\n",
    "    return ' '.join(x['keywords']) + ' ' + ' '.join(x['cast']) + ' ' + x['director'] + ' ' + ' '.join(x['genres'])\n",
    "\n",
    "merged_df['soup'] = merged_df.apply(create_soup, axis=1)"
   ]
  },
  {
   "cell_type": "code",
   "execution_count": 37,
   "id": "7f0b166e",
   "metadata": {
    "execution": {
     "iopub.execute_input": "2025-02-28T04:03:44.799025Z",
     "iopub.status.busy": "2025-02-28T04:03:44.798493Z",
     "iopub.status.idle": "2025-02-28T04:03:44.885272Z",
     "shell.execute_reply": "2025-02-28T04:03:44.884133Z"
    },
    "papermill": {
     "duration": 0.10312,
     "end_time": "2025-02-28T04:03:44.887376",
     "exception": false,
     "start_time": "2025-02-28T04:03:44.784256",
     "status": "completed"
    },
    "tags": []
   },
   "outputs": [],
   "source": [
    "from sklearn.feature_extraction.text import CountVectorizer\n",
    "\n",
    "count = CountVectorizer(stop_words='english')\n",
    "\n",
    "count_matrix = count.fit_transform(merged_df['soup'])"
   ]
  },
  {
   "cell_type": "code",
   "execution_count": 38,
   "id": "5d1e83db",
   "metadata": {
    "execution": {
     "iopub.execute_input": "2025-02-28T04:03:44.914482Z",
     "iopub.status.busy": "2025-02-28T04:03:44.914140Z",
     "iopub.status.idle": "2025-02-28T04:03:45.456639Z",
     "shell.execute_reply": "2025-02-28T04:03:45.455499Z"
    },
    "papermill": {
     "duration": 0.558257,
     "end_time": "2025-02-28T04:03:45.458663",
     "exception": false,
     "start_time": "2025-02-28T04:03:44.900406",
     "status": "completed"
    },
    "tags": []
   },
   "outputs": [],
   "source": [
    "from sklearn.metrics.pairwise import cosine_similarity\n",
    "\n",
    "cosine_sim2 = cosine_similarity(count_matrix, count_matrix)"
   ]
  },
  {
   "cell_type": "code",
   "execution_count": 39,
   "id": "fac25b4b",
   "metadata": {
    "execution": {
     "iopub.execute_input": "2025-02-28T04:03:45.486492Z",
     "iopub.status.busy": "2025-02-28T04:03:45.486138Z",
     "iopub.status.idle": "2025-02-28T04:03:45.499025Z",
     "shell.execute_reply": "2025-02-28T04:03:45.497800Z"
    },
    "papermill": {
     "duration": 0.029046,
     "end_time": "2025-02-28T04:03:45.501093",
     "exception": false,
     "start_time": "2025-02-28T04:03:45.472047",
     "status": "completed"
    },
    "tags": []
   },
   "outputs": [],
   "source": [
    "merged_df = merged_df.reset_index()\n",
    "indices = pd.Series(merged_df.index, index = merged_df['title_y'])"
   ]
  },
  {
   "cell_type": "code",
   "execution_count": 40,
   "id": "0d155dc0",
   "metadata": {
    "execution": {
     "iopub.execute_input": "2025-02-28T04:03:45.528745Z",
     "iopub.status.busy": "2025-02-28T04:03:45.528281Z",
     "iopub.status.idle": "2025-02-28T04:03:45.540205Z",
     "shell.execute_reply": "2025-02-28T04:03:45.538856Z"
    },
    "papermill": {
     "duration": 0.02817,
     "end_time": "2025-02-28T04:03:45.542409",
     "exception": false,
     "start_time": "2025-02-28T04:03:45.514239",
     "status": "completed"
    },
    "tags": []
   },
   "outputs": [
    {
     "data": {
      "text/plain": [
       "65               The Dark Knight\n",
       "119                Batman Begins\n",
       "4638    Amidst the Devil's Wings\n",
       "1196                The Prestige\n",
       "3073           Romeo Is Bleeding\n",
       "3326              Black November\n",
       "1503                      Takers\n",
       "1986                      Faster\n",
       "303                     Catwoman\n",
       "747               Gangster Squad\n",
       "Name: title_y, dtype: object"
      ]
     },
     "execution_count": 40,
     "metadata": {},
     "output_type": "execute_result"
    }
   ],
   "source": [
    "get_recommendations('The Dark Knight Rises', cosine_sim2)"
   ]
  },
  {
   "cell_type": "code",
   "execution_count": 41,
   "id": "a8ddcaa2",
   "metadata": {
    "execution": {
     "iopub.execute_input": "2025-02-28T04:03:45.570192Z",
     "iopub.status.busy": "2025-02-28T04:03:45.569805Z",
     "iopub.status.idle": "2025-02-28T04:03:45.581049Z",
     "shell.execute_reply": "2025-02-28T04:03:45.579686Z"
    },
    "papermill": {
     "duration": 0.027245,
     "end_time": "2025-02-28T04:03:45.582988",
     "exception": false,
     "start_time": "2025-02-28T04:03:45.555743",
     "status": "completed"
    },
    "tags": []
   },
   "outputs": [
    {
     "data": {
      "text/plain": [
       "867      The Godfather: Part III\n",
       "2731      The Godfather: Part II\n",
       "4638    Amidst the Devil's Wings\n",
       "2649           The Son of No One\n",
       "1525              Apocalypse Now\n",
       "1018             The Cotton Club\n",
       "1170     The Talented Mr. Ripley\n",
       "1209               The Rainmaker\n",
       "1394               Donnie Brasco\n",
       "1850                    Scarface\n",
       "Name: title_y, dtype: object"
      ]
     },
     "execution_count": 41,
     "metadata": {},
     "output_type": "execute_result"
    }
   ],
   "source": [
    "get_recommendations('The Godfather', cosine_sim2)"
   ]
  },
  {
   "cell_type": "markdown",
   "id": "70603f0e",
   "metadata": {
    "papermill": {
     "duration": 0.013488,
     "end_time": "2025-02-28T04:03:45.609803",
     "exception": false,
     "start_time": "2025-02-28T04:03:45.596315",
     "status": "completed"
    },
    "tags": []
   },
   "source": [
    "## COLLABORATIVE FILTERING"
   ]
  },
  {
   "cell_type": "code",
   "execution_count": 42,
   "id": "aa944eb7",
   "metadata": {
    "execution": {
     "iopub.execute_input": "2025-02-28T04:03:45.637290Z",
     "iopub.status.busy": "2025-02-28T04:03:45.636938Z",
     "iopub.status.idle": "2025-02-28T04:03:45.706787Z",
     "shell.execute_reply": "2025-02-28T04:03:45.705816Z"
    },
    "papermill": {
     "duration": 0.086137,
     "end_time": "2025-02-28T04:03:45.709040",
     "exception": false,
     "start_time": "2025-02-28T04:03:45.622903",
     "status": "completed"
    },
    "tags": []
   },
   "outputs": [],
   "source": [
    "from surprise import Reader, Dataset, SVD\n",
    "from surprise.model_selection import cross_validate"
   ]
  },
  {
   "cell_type": "code",
   "execution_count": 43,
   "id": "f7f05659",
   "metadata": {
    "execution": {
     "iopub.execute_input": "2025-02-28T04:03:45.736775Z",
     "iopub.status.busy": "2025-02-28T04:03:45.736187Z",
     "iopub.status.idle": "2025-02-28T04:03:45.838504Z",
     "shell.execute_reply": "2025-02-28T04:03:45.837422Z"
    },
    "papermill": {
     "duration": 0.118258,
     "end_time": "2025-02-28T04:03:45.840424",
     "exception": false,
     "start_time": "2025-02-28T04:03:45.722166",
     "status": "completed"
    },
    "tags": []
   },
   "outputs": [
    {
     "data": {
      "text/html": [
       "<div>\n",
       "<style scoped>\n",
       "    .dataframe tbody tr th:only-of-type {\n",
       "        vertical-align: middle;\n",
       "    }\n",
       "\n",
       "    .dataframe tbody tr th {\n",
       "        vertical-align: top;\n",
       "    }\n",
       "\n",
       "    .dataframe thead th {\n",
       "        text-align: right;\n",
       "    }\n",
       "</style>\n",
       "<table border=\"1\" class=\"dataframe\">\n",
       "  <thead>\n",
       "    <tr style=\"text-align: right;\">\n",
       "      <th></th>\n",
       "      <th>userId</th>\n",
       "      <th>movieId</th>\n",
       "      <th>rating</th>\n",
       "      <th>timestamp</th>\n",
       "    </tr>\n",
       "  </thead>\n",
       "  <tbody>\n",
       "    <tr>\n",
       "      <th>0</th>\n",
       "      <td>1</td>\n",
       "      <td>31</td>\n",
       "      <td>2.5</td>\n",
       "      <td>1260759144</td>\n",
       "    </tr>\n",
       "    <tr>\n",
       "      <th>1</th>\n",
       "      <td>1</td>\n",
       "      <td>1029</td>\n",
       "      <td>3.0</td>\n",
       "      <td>1260759179</td>\n",
       "    </tr>\n",
       "    <tr>\n",
       "      <th>2</th>\n",
       "      <td>1</td>\n",
       "      <td>1061</td>\n",
       "      <td>3.0</td>\n",
       "      <td>1260759182</td>\n",
       "    </tr>\n",
       "    <tr>\n",
       "      <th>3</th>\n",
       "      <td>1</td>\n",
       "      <td>1129</td>\n",
       "      <td>2.0</td>\n",
       "      <td>1260759185</td>\n",
       "    </tr>\n",
       "    <tr>\n",
       "      <th>4</th>\n",
       "      <td>1</td>\n",
       "      <td>1172</td>\n",
       "      <td>4.0</td>\n",
       "      <td>1260759205</td>\n",
       "    </tr>\n",
       "  </tbody>\n",
       "</table>\n",
       "</div>"
      ],
      "text/plain": [
       "   userId  movieId  rating   timestamp\n",
       "0       1       31     2.5  1260759144\n",
       "1       1     1029     3.0  1260759179\n",
       "2       1     1061     3.0  1260759182\n",
       "3       1     1129     2.0  1260759185\n",
       "4       1     1172     4.0  1260759205"
      ]
     },
     "execution_count": 43,
     "metadata": {},
     "output_type": "execute_result"
    }
   ],
   "source": [
    "reader = Reader()\n",
    "ratings = pd.read_csv('../input/the-movies-dataset/ratings_small.csv')\n",
    "ratings.head()"
   ]
  },
  {
   "cell_type": "code",
   "execution_count": 44,
   "id": "1fdf1e38",
   "metadata": {
    "execution": {
     "iopub.execute_input": "2025-02-28T04:03:45.868936Z",
     "iopub.status.busy": "2025-02-28T04:03:45.868450Z",
     "iopub.status.idle": "2025-02-28T04:03:45.954441Z",
     "shell.execute_reply": "2025-02-28T04:03:45.953152Z"
    },
    "papermill": {
     "duration": 0.102718,
     "end_time": "2025-02-28T04:03:45.956728",
     "exception": false,
     "start_time": "2025-02-28T04:03:45.854010",
     "status": "completed"
    },
    "tags": []
   },
   "outputs": [],
   "source": [
    "data = Dataset.load_from_df(ratings[['userId', 'movieId', 'rating']], reader)\n"
   ]
  },
  {
   "cell_type": "code",
   "execution_count": 45,
   "id": "b8b9ccd0",
   "metadata": {
    "execution": {
     "iopub.execute_input": "2025-02-28T04:03:45.984814Z",
     "iopub.status.busy": "2025-02-28T04:03:45.984372Z",
     "iopub.status.idle": "2025-02-28T04:03:55.207626Z",
     "shell.execute_reply": "2025-02-28T04:03:55.206387Z"
    },
    "papermill": {
     "duration": 9.239554,
     "end_time": "2025-02-28T04:03:55.209785",
     "exception": false,
     "start_time": "2025-02-28T04:03:45.970231",
     "status": "completed"
    },
    "tags": []
   },
   "outputs": [
    {
     "name": "stdout",
     "output_type": "stream",
     "text": [
      "Evaluating RMSE, MAE of algorithm SVD on 5 split(s).\n",
      "\n",
      "                  Fold 1  Fold 2  Fold 3  Fold 4  Fold 5  Mean    Std     \n",
      "RMSE (testset)    0.9043  0.8963  0.9028  0.8930  0.8904  0.8974  0.0054  \n",
      "MAE (testset)     0.6979  0.6898  0.6944  0.6894  0.6847  0.6912  0.0045  \n",
      "Fit time          1.47    1.49    1.51    1.48    1.51    1.49    0.02    \n",
      "Test time         0.26    0.12    0.25    0.12    0.13    0.18    0.06    \n"
     ]
    }
   ],
   "source": [
    "svd = SVD()\n",
    "\n",
    "results = cross_validate(svd, data, measures=['RMSE', 'MAE'], cv=5, verbose=True)"
   ]
  },
  {
   "cell_type": "code",
   "execution_count": 46,
   "id": "5dc0894f",
   "metadata": {
    "execution": {
     "iopub.execute_input": "2025-02-28T04:03:55.252250Z",
     "iopub.status.busy": "2025-02-28T04:03:55.251761Z",
     "iopub.status.idle": "2025-02-28T04:03:57.082442Z",
     "shell.execute_reply": "2025-02-28T04:03:57.081338Z"
    },
    "papermill": {
     "duration": 1.850095,
     "end_time": "2025-02-28T04:03:57.084326",
     "exception": false,
     "start_time": "2025-02-28T04:03:55.234231",
     "status": "completed"
    },
    "tags": []
   },
   "outputs": [
    {
     "data": {
      "text/plain": [
       "<surprise.prediction_algorithms.matrix_factorization.SVD at 0x7eaa42ed82b0>"
      ]
     },
     "execution_count": 46,
     "metadata": {},
     "output_type": "execute_result"
    }
   ],
   "source": [
    "trainset = data.build_full_trainset()\n",
    "svd.fit(trainset)"
   ]
  },
  {
   "cell_type": "code",
   "execution_count": 47,
   "id": "35558411",
   "metadata": {
    "execution": {
     "iopub.execute_input": "2025-02-28T04:03:57.113166Z",
     "iopub.status.busy": "2025-02-28T04:03:57.112802Z",
     "iopub.status.idle": "2025-02-28T04:03:57.125668Z",
     "shell.execute_reply": "2025-02-28T04:03:57.124458Z"
    },
    "papermill": {
     "duration": 0.02899,
     "end_time": "2025-02-28T04:03:57.127412",
     "exception": false,
     "start_time": "2025-02-28T04:03:57.098422",
     "status": "completed"
    },
    "tags": []
   },
   "outputs": [
    {
     "data": {
      "text/html": [
       "<div>\n",
       "<style scoped>\n",
       "    .dataframe tbody tr th:only-of-type {\n",
       "        vertical-align: middle;\n",
       "    }\n",
       "\n",
       "    .dataframe tbody tr th {\n",
       "        vertical-align: top;\n",
       "    }\n",
       "\n",
       "    .dataframe thead th {\n",
       "        text-align: right;\n",
       "    }\n",
       "</style>\n",
       "<table border=\"1\" class=\"dataframe\">\n",
       "  <thead>\n",
       "    <tr style=\"text-align: right;\">\n",
       "      <th></th>\n",
       "      <th>userId</th>\n",
       "      <th>movieId</th>\n",
       "      <th>rating</th>\n",
       "      <th>timestamp</th>\n",
       "    </tr>\n",
       "  </thead>\n",
       "  <tbody>\n",
       "    <tr>\n",
       "      <th>0</th>\n",
       "      <td>1</td>\n",
       "      <td>31</td>\n",
       "      <td>2.5</td>\n",
       "      <td>1260759144</td>\n",
       "    </tr>\n",
       "    <tr>\n",
       "      <th>1</th>\n",
       "      <td>1</td>\n",
       "      <td>1029</td>\n",
       "      <td>3.0</td>\n",
       "      <td>1260759179</td>\n",
       "    </tr>\n",
       "    <tr>\n",
       "      <th>2</th>\n",
       "      <td>1</td>\n",
       "      <td>1061</td>\n",
       "      <td>3.0</td>\n",
       "      <td>1260759182</td>\n",
       "    </tr>\n",
       "    <tr>\n",
       "      <th>3</th>\n",
       "      <td>1</td>\n",
       "      <td>1129</td>\n",
       "      <td>2.0</td>\n",
       "      <td>1260759185</td>\n",
       "    </tr>\n",
       "    <tr>\n",
       "      <th>4</th>\n",
       "      <td>1</td>\n",
       "      <td>1172</td>\n",
       "      <td>4.0</td>\n",
       "      <td>1260759205</td>\n",
       "    </tr>\n",
       "    <tr>\n",
       "      <th>5</th>\n",
       "      <td>1</td>\n",
       "      <td>1263</td>\n",
       "      <td>2.0</td>\n",
       "      <td>1260759151</td>\n",
       "    </tr>\n",
       "    <tr>\n",
       "      <th>6</th>\n",
       "      <td>1</td>\n",
       "      <td>1287</td>\n",
       "      <td>2.0</td>\n",
       "      <td>1260759187</td>\n",
       "    </tr>\n",
       "    <tr>\n",
       "      <th>7</th>\n",
       "      <td>1</td>\n",
       "      <td>1293</td>\n",
       "      <td>2.0</td>\n",
       "      <td>1260759148</td>\n",
       "    </tr>\n",
       "    <tr>\n",
       "      <th>8</th>\n",
       "      <td>1</td>\n",
       "      <td>1339</td>\n",
       "      <td>3.5</td>\n",
       "      <td>1260759125</td>\n",
       "    </tr>\n",
       "    <tr>\n",
       "      <th>9</th>\n",
       "      <td>1</td>\n",
       "      <td>1343</td>\n",
       "      <td>2.0</td>\n",
       "      <td>1260759131</td>\n",
       "    </tr>\n",
       "    <tr>\n",
       "      <th>10</th>\n",
       "      <td>1</td>\n",
       "      <td>1371</td>\n",
       "      <td>2.5</td>\n",
       "      <td>1260759135</td>\n",
       "    </tr>\n",
       "    <tr>\n",
       "      <th>11</th>\n",
       "      <td>1</td>\n",
       "      <td>1405</td>\n",
       "      <td>1.0</td>\n",
       "      <td>1260759203</td>\n",
       "    </tr>\n",
       "    <tr>\n",
       "      <th>12</th>\n",
       "      <td>1</td>\n",
       "      <td>1953</td>\n",
       "      <td>4.0</td>\n",
       "      <td>1260759191</td>\n",
       "    </tr>\n",
       "    <tr>\n",
       "      <th>13</th>\n",
       "      <td>1</td>\n",
       "      <td>2105</td>\n",
       "      <td>4.0</td>\n",
       "      <td>1260759139</td>\n",
       "    </tr>\n",
       "    <tr>\n",
       "      <th>14</th>\n",
       "      <td>1</td>\n",
       "      <td>2150</td>\n",
       "      <td>3.0</td>\n",
       "      <td>1260759194</td>\n",
       "    </tr>\n",
       "    <tr>\n",
       "      <th>15</th>\n",
       "      <td>1</td>\n",
       "      <td>2193</td>\n",
       "      <td>2.0</td>\n",
       "      <td>1260759198</td>\n",
       "    </tr>\n",
       "    <tr>\n",
       "      <th>16</th>\n",
       "      <td>1</td>\n",
       "      <td>2294</td>\n",
       "      <td>2.0</td>\n",
       "      <td>1260759108</td>\n",
       "    </tr>\n",
       "    <tr>\n",
       "      <th>17</th>\n",
       "      <td>1</td>\n",
       "      <td>2455</td>\n",
       "      <td>2.5</td>\n",
       "      <td>1260759113</td>\n",
       "    </tr>\n",
       "    <tr>\n",
       "      <th>18</th>\n",
       "      <td>1</td>\n",
       "      <td>2968</td>\n",
       "      <td>1.0</td>\n",
       "      <td>1260759200</td>\n",
       "    </tr>\n",
       "    <tr>\n",
       "      <th>19</th>\n",
       "      <td>1</td>\n",
       "      <td>3671</td>\n",
       "      <td>3.0</td>\n",
       "      <td>1260759117</td>\n",
       "    </tr>\n",
       "  </tbody>\n",
       "</table>\n",
       "</div>"
      ],
      "text/plain": [
       "    userId  movieId  rating   timestamp\n",
       "0        1       31     2.5  1260759144\n",
       "1        1     1029     3.0  1260759179\n",
       "2        1     1061     3.0  1260759182\n",
       "3        1     1129     2.0  1260759185\n",
       "4        1     1172     4.0  1260759205\n",
       "5        1     1263     2.0  1260759151\n",
       "6        1     1287     2.0  1260759187\n",
       "7        1     1293     2.0  1260759148\n",
       "8        1     1339     3.5  1260759125\n",
       "9        1     1343     2.0  1260759131\n",
       "10       1     1371     2.5  1260759135\n",
       "11       1     1405     1.0  1260759203\n",
       "12       1     1953     4.0  1260759191\n",
       "13       1     2105     4.0  1260759139\n",
       "14       1     2150     3.0  1260759194\n",
       "15       1     2193     2.0  1260759198\n",
       "16       1     2294     2.0  1260759108\n",
       "17       1     2455     2.5  1260759113\n",
       "18       1     2968     1.0  1260759200\n",
       "19       1     3671     3.0  1260759117"
      ]
     },
     "execution_count": 47,
     "metadata": {},
     "output_type": "execute_result"
    }
   ],
   "source": [
    "ratings[ratings['userId'] == 1]"
   ]
  },
  {
   "cell_type": "code",
   "execution_count": 48,
   "id": "27b38c2e",
   "metadata": {
    "execution": {
     "iopub.execute_input": "2025-02-28T04:03:57.155957Z",
     "iopub.status.busy": "2025-02-28T04:03:57.155582Z",
     "iopub.status.idle": "2025-02-28T04:03:57.161802Z",
     "shell.execute_reply": "2025-02-28T04:03:57.160690Z"
    },
    "papermill": {
     "duration": 0.02234,
     "end_time": "2025-02-28T04:03:57.163448",
     "exception": false,
     "start_time": "2025-02-28T04:03:57.141108",
     "status": "completed"
    },
    "tags": []
   },
   "outputs": [
    {
     "data": {
      "text/plain": [
       "Prediction(uid=1, iid=302, r_ui=3, est=2.6685265071859767, details={'was_impossible': False})"
      ]
     },
     "execution_count": 48,
     "metadata": {},
     "output_type": "execute_result"
    }
   ],
   "source": [
    "svd.predict(1, 302, 3)"
   ]
  },
  {
   "cell_type": "code",
   "execution_count": null,
   "id": "1fa40dbd",
   "metadata": {
    "papermill": {
     "duration": 0.013408,
     "end_time": "2025-02-28T04:03:57.190867",
     "exception": false,
     "start_time": "2025-02-28T04:03:57.177459",
     "status": "completed"
    },
    "tags": []
   },
   "outputs": [],
   "source": []
  }
 ],
 "metadata": {
  "kaggle": {
   "accelerator": "none",
   "dataSources": [
    {
     "datasetId": 138,
     "sourceId": 4508,
     "sourceType": "datasetVersion"
    },
    {
     "datasetId": 3405,
     "sourceId": 6663,
     "sourceType": "datasetVersion"
    },
    {
     "sourceId": 1711884,
     "sourceType": "kernelVersion"
    }
   ],
   "dockerImageVersionId": 30918,
   "isGpuEnabled": false,
   "isInternetEnabled": true,
   "language": "python",
   "sourceType": "notebook"
  },
  "kernelspec": {
   "display_name": "Python 3",
   "language": "python",
   "name": "python3"
  },
  "language_info": {
   "codemirror_mode": {
    "name": "ipython",
    "version": 3
   },
   "file_extension": ".py",
   "mimetype": "text/x-python",
   "name": "python",
   "nbconvert_exporter": "python",
   "pygments_lexer": "ipython3",
   "version": "3.10.12"
  },
  "papermill": {
   "default_parameters": {},
   "duration": 30.380912,
   "end_time": "2025-02-28T04:03:58.125985",
   "environment_variables": {},
   "exception": null,
   "input_path": "__notebook__.ipynb",
   "output_path": "__notebook__.ipynb",
   "parameters": {},
   "start_time": "2025-02-28T04:03:27.745073",
   "version": "2.6.0"
  }
 },
 "nbformat": 4,
 "nbformat_minor": 5
}
